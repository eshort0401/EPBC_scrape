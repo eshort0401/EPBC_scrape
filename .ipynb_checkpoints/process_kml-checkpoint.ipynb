{
 "cells": [
  {
   "cell_type": "code",
   "execution_count": 1,
   "id": "f54f1ba4",
   "metadata": {
    "ExecuteTime": {
     "end_time": "2021-06-01T10:52:52.422251Z",
     "start_time": "2021-06-01T10:52:52.392271Z"
    }
   },
   "outputs": [],
   "source": [
    "import simplekml\n",
    "import glob\n",
    "import os\n",
    "import pykml\n",
    "from pykml import parser\n",
    "from pykml.factory import KML_ElementMaker as KML\n",
    "from lxml import etree, objectify"
   ]
  },
  {
   "cell_type": "code",
   "execution_count": 4,
   "id": "9ab4f4d0",
   "metadata": {
    "ExecuteTime": {
     "end_time": "2021-06-01T10:54:07.602249Z",
     "start_time": "2021-06-01T10:54:07.594682Z"
    }
   },
   "outputs": [],
   "source": [
    "base_dir = '/home/student.unimelb.edu.au/shorte1/Documents/ACF_consulting'\n",
    "sub_dir = '/map_data/'"
   ]
  },
  {
   "cell_type": "code",
   "execution_count": 5,
   "id": "e5534663",
   "metadata": {
    "ExecuteTime": {
     "end_time": "2021-06-01T10:54:08.104445Z",
     "start_time": "2021-06-01T10:54:08.092681Z"
    }
   },
   "outputs": [
    {
     "data": {
      "text/plain": [
       "['20167684_07042016', '20157598_12042016', '20167676_01042016']"
      ]
     },
     "execution_count": 5,
     "metadata": {},
     "output_type": "execute_result"
    }
   ],
   "source": [
    "folders = glob.glob(base_dir + sub_dir + '/*')\n",
    "id_nums = [folder.split('/')[-1] for folder in folders]\n",
    "id_nums"
   ]
  },
  {
   "cell_type": "code",
   "execution_count": 19,
   "id": "747036bd",
   "metadata": {
    "ExecuteTime": {
     "end_time": "2021-06-01T10:54:35.404655Z",
     "start_time": "2021-06-01T10:54:35.399432Z"
    }
   },
   "outputs": [],
   "source": [
    "fol_num = 0"
   ]
  },
  {
   "cell_type": "code",
   "execution_count": 20,
   "id": "421bcfd9",
   "metadata": {
    "ExecuteTime": {
     "end_time": "2021-06-01T10:54:35.702694Z",
     "start_time": "2021-06-01T10:54:35.690376Z"
    }
   },
   "outputs": [],
   "source": [
    "pages = [dir for dir in glob.glob(folders[fol_num] + '/*') if os.path.isdir( dir)]\n",
    "pages = [p.split('/')[-1] for p in pages]\n",
    "pages.remove('pages')\n",
    "pages.remove('JSON')\n",
    "pages = [int(p) for p in pages]"
   ]
  },
  {
   "cell_type": "code",
   "execution_count": 21,
   "id": "c45fefd1",
   "metadata": {
    "ExecuteTime": {
     "end_time": "2021-06-01T10:54:36.276776Z",
     "start_time": "2021-06-01T10:54:36.206130Z"
    }
   },
   "outputs": [],
   "source": [
    "page_folders = []\n",
    "for page in sorted(pages):\n",
    "    page_folder = KML.Folder(\n",
    "        KML.name('Page ' + str(page+1)),\n",
    "    )\n",
    "    kml_files = glob.glob(folders[fol_num] + '/' + str(page) + '/*.kml')\n",
    "    for kml_file in kml_files:\n",
    "        with open(kml_file) as f:\n",
    "            kml = parser.parse(f)\n",
    "        contents = [\n",
    "            c for c in list(kml.getroot().Document.iterchildren()) \n",
    "            if 'folder' in c.tag.lower()\n",
    "        ]\n",
    "        [page_folder.append(c) for c in contents]\n",
    "    page_folders.append(page_folder)"
   ]
  },
  {
   "cell_type": "code",
   "execution_count": 22,
   "id": "20a2fa1c",
   "metadata": {
    "ExecuteTime": {
     "end_time": "2021-06-01T10:54:36.561448Z",
     "start_time": "2021-06-01T10:54:36.549591Z"
    }
   },
   "outputs": [],
   "source": [
    "doc = KML.Document(\n",
    "    KML.name(id_nums[fol_num].replace('_','.')),\n",
    ")\n",
    "[doc.append(pf) for pf in page_folders]\n",
    "\n",
    "big_kml = KML.kml(\n",
    "    doc,\n",
    ")"
   ]
  },
  {
   "cell_type": "code",
   "execution_count": 23,
   "id": "83321fdc",
   "metadata": {
    "ExecuteTime": {
     "end_time": "2021-06-01T10:54:37.024806Z",
     "start_time": "2021-06-01T10:54:37.001122Z"
    }
   },
   "outputs": [],
   "source": [
    "with open(base_dir + sub_dir + '/' + id_nums[fol_num] + '/' + id_nums[fol_num] + '.kml', 'w') as f:\n",
    "    f.write(etree.tostring(big_kml, pretty_print=1, encoding='unicode'))"
   ]
  },
  {
   "cell_type": "code",
   "execution_count": null,
   "id": "cd5fb391",
   "metadata": {},
   "outputs": [],
   "source": []
  },
  {
   "cell_type": "code",
   "execution_count": null,
   "id": "af655ecc",
   "metadata": {},
   "outputs": [],
   "source": []
  }
 ],
 "metadata": {
  "kernelspec": {
   "display_name": "Python 3",
   "language": "python",
   "name": "python3"
  },
  "language_info": {
   "codemirror_mode": {
    "name": "ipython",
    "version": 3
   },
   "file_extension": ".py",
   "mimetype": "text/x-python",
   "name": "python",
   "nbconvert_exporter": "python",
   "pygments_lexer": "ipython3",
   "version": "3.9.2"
  },
  "toc": {
   "base_numbering": 1,
   "nav_menu": {},
   "number_sections": true,
   "sideBar": true,
   "skip_h1_title": false,
   "title_cell": "Table of Contents",
   "title_sidebar": "Contents",
   "toc_cell": false,
   "toc_position": {},
   "toc_section_display": true,
   "toc_window_display": false
  }
 },
 "nbformat": 4,
 "nbformat_minor": 5
}
