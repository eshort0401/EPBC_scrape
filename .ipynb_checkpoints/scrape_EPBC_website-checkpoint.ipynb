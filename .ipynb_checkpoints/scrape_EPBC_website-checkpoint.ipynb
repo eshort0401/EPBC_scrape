{
 "cells": [
  {
   "cell_type": "markdown",
   "metadata": {},
   "source": [
    "# Import"
   ]
  },
  {
   "cell_type": "markdown",
   "metadata": {},
   "source": [
    "First, import the Python modules necessary for this notebook to run. These can be installed using, for instance, `pip` or `conda`. "
   ]
  },
  {
   "cell_type": "code",
   "execution_count": 1,
   "metadata": {
    "ExecuteTime": {
     "end_time": "2021-06-08T06:35:16.055425Z",
     "start_time": "2021-06-08T06:35:15.571068Z"
    }
   },
   "outputs": [],
   "source": [
    "import numpy as np # Handles maths\n",
    "import pandas as pd # Good for tables of data\n",
    "import matplotlib.pyplot as plt # Handles graphing\n",
    "import requests # Downloads webpages\n",
    "from bs4 import BeautifulSoup # For parsing webpages\n",
    "from selenium import webdriver \n",
    "from selenium.webdriver.common.action_chains import ActionChains\n",
    "import os, sys\n",
    "import time\n",
    "import subprocess\n",
    "import re\n",
    "import string\n",
    "\n",
    "import scrape_EPBC\n",
    "%load_ext autoreload\n",
    "%autoreload 2"
   ]
  },
  {
   "cell_type": "markdown",
   "metadata": {},
   "source": [
    "# Initialise"
   ]
  },
  {
   "cell_type": "code",
   "execution_count": 2,
   "metadata": {
    "ExecuteTime": {
     "end_time": "2021-06-08T06:35:16.720342Z",
     "start_time": "2021-06-08T06:35:16.690920Z"
    }
   },
   "outputs": [],
   "source": [
    "# stored_table = pd.read_csv('/home/student.unimelb.edu.au/shorte1/Documents/ACF_consulting/EPBC_notices_test.csv')\n",
    "# stored_table[stored_table['Reference Number'] == '2019/8527']\n",
    "# stored_table = stored_table.drop(1539, axis=0).reset_index(drop=True)\n",
    "# stored_table.to_csv('/home/student.unimelb.edu.au/shorte1/Documents/ACF_consulting/EPBC_notices_test.csv', index=False, header=True)"
   ]
  },
  {
   "cell_type": "code",
   "execution_count": 3,
   "metadata": {
    "ExecuteTime": {
     "end_time": "2021-06-08T06:35:17.184878Z",
     "start_time": "2021-06-08T06:35:17.161750Z"
    }
   },
   "outputs": [],
   "source": [
    "url = \"http://epbcnotices.environment.gov.au/publicnoticesreferrals\""
   ]
  },
  {
   "cell_type": "code",
   "execution_count": 4,
   "metadata": {
    "ExecuteTime": {
     "end_time": "2021-06-08T06:35:24.945259Z",
     "start_time": "2021-06-08T06:35:17.682535Z"
    }
   },
   "outputs": [],
   "source": [
    "options = webdriver.ChromeOptions()\n",
    "# options.add_argument('--headless') # Comment out to see the actions on website\n",
    "options.add_argument('--disable-gpu')\n",
    "options.add_argument('--no-sandbox')\n",
    "options.add_argument('--ignore-certificate-errors')\n",
    "options.add_argument('--incognito')\n",
    "options.add_argument(\"--start-maximized\")\n",
    "\n",
    "base_dir = '/home/student.unimelb.edu.au/shorte1/Documents/ACF_consulting/' \n",
    "sub_dir = 'files_test'\n",
    "files_dir = base_dir + sub_dir \n",
    "\n",
    "options.add_experimental_option(\"prefs\", {\n",
    "  \"download.default_directory\": files_dir,\n",
    "  \"download.prompt_for_download\": False,\n",
    "  \"download.directory_upgrade\": True,\n",
    "  \"safebrowsing.enabled\": True,\n",
    "  \"plugins.always_open_pdf_externally\": True\n",
    "})\n",
    "\n",
    "driver = webdriver.Chrome('/usr/bin/chromedriver', options=options)\n",
    "driver.get(url);\n",
    "time.sleep(4)\n",
    "\n",
    "def clean_columns(table):\n",
    "    name_dict = {}\n",
    "    clean_str = '  . Activate to sort in descending order'\n",
    "    for col in range(len(table.columns)): \n",
    "        name_dict[table.columns[col]] = table.columns[col].replace(clean_str, '')\n",
    "    return table.rename(name_dict, axis='columns')"
   ]
  },
  {
   "cell_type": "code",
   "execution_count": 5,
   "metadata": {
    "ExecuteTime": {
     "end_time": "2021-06-08T06:35:30.642301Z",
     "start_time": "2021-06-08T06:35:30.623327Z"
    }
   },
   "outputs": [
    {
     "name": "stdout",
     "output_type": "stream",
     "text": [
      "Automatic pdb calling has been turned ON\n"
     ]
    }
   ],
   "source": [
    "%pdb"
   ]
  },
  {
   "cell_type": "markdown",
   "metadata": {},
   "source": [
    "# Scrape Website"
   ]
  },
  {
   "cell_type": "code",
   "execution_count": null,
   "metadata": {
    "ExecuteTime": {
     "start_time": "2021-06-08T08:16:29.549Z"
    }
   },
   "outputs": [],
   "source": [
    "for i in range(1,3):\n",
    "    \n",
    "    loading = True\n",
    "    attempts = 0\n",
    "    while loading:\n",
    "        if attempts > 30:\n",
    "            raise RuntimeError('Could not load website')\n",
    "        try:\n",
    "            time.sleep(2)\n",
    "            page_source = driver.page_source\n",
    "            soup = BeautifulSoup(page_source)\n",
    "            table = pd.read_html(soup.prettify())[0]\n",
    "            if len(table) == 30:\n",
    "                loading = False\n",
    "        except:\n",
    "            attempts += 1\n",
    "\n",
    "    table = clean_columns(table)\n",
    "    table['PDF Attachments'] = ['TBD']*30\n",
    "    table['Non PDF Attachments'] = ['TBD']*30\n",
    "    table['Download'] = ['TBD']*30\n",
    "    table['Download Folder'] = ['TBD']*30\n",
    "    table['PDFs Combined'] = ['TBD']*30\n",
    "    \n",
    "    table['Date of notice'] = pd.to_datetime(\n",
    "        table['Date of notice'], dayfirst=True)\n",
    "    table.drop(labels='Actions', axis=1, inplace=True) \n",
    "    \n",
    "    try:\n",
    "        stored_table = pd.read_csv(base_dir + '/EPBC_notices_test.csv')\n",
    "        stored_table['Date of notice'] = pd.to_datetime(\n",
    "            stored_table['Date of notice'], dayfirst=True)\n",
    "        label_list = [\n",
    "            'PDF Attachments', 'Non PDF Attachments', \n",
    "            'Download', 'Download Folder', 'PDFs Combined']\n",
    "        shared = pd.merge(\n",
    "            table.drop(labels=label_list, axis=1), \n",
    "            stored_table.drop(labels=label_list, axis=1), \n",
    "            how='left', indicator='Exist')\n",
    "        shared['Exist'] = np.where(shared.Exist == 'both', True, False)\n",
    "        exist = shared['Exist']\n",
    "        del shared\n",
    "    except:\n",
    "        stored_table = table.iloc[0:0]\n",
    "        stored_table['Date of notice'] = pd.to_datetime(\n",
    "            stored_table['Date of notice'], dayfirst=True)\n",
    "        exist = [False]*30\n",
    "        exist = pd.Series(exist, name='Exist')\n",
    "     \n",
    "    if np.any(~exist):\n",
    "        scrape_EPBC.scrape_page(\n",
    "            driver, i, table, stored_table, exist, base_dir, files_dir)\n",
    "    \n",
    "    try:\n",
    "        next_button = driver.find_elements_by_xpath(\n",
    "            '//a[@href=\"#\" and @data-page=\"' + str(i+1) + '\"]'\n",
    "        )[1]\n",
    "        ActionChains(driver).move_to_element(next_button).perform()\n",
    "        next_button.click()\n",
    "    except:\n",
    "        print('Quitting.')\n",
    "    \n",
    "    del table, stored_table\n",
    "    \n",
    "driver.quit()"
   ]
  },
  {
   "cell_type": "code",
   "execution_count": 8,
   "metadata": {
    "ExecuteTime": {
     "end_time": "2021-06-08T07:17:49.606489Z",
     "start_time": "2021-06-08T07:17:49.569003Z"
    }
   },
   "outputs": [],
   "source": [
    "stored_table = pd.read_csv('/home/student.unimelb.edu.au/shorte1/Documents/ACF_consulting/EPBC_notices_test.csv')"
   ]
  },
  {
   "cell_type": "code",
   "execution_count": 17,
   "metadata": {
    "ExecuteTime": {
     "end_time": "2021-06-08T07:33:07.856559Z",
     "start_time": "2021-06-08T07:33:07.832752Z"
    }
   },
   "outputs": [
    {
     "data": {
      "text/html": [
       "<div>\n",
       "<style scoped>\n",
       "    .dataframe tbody tr th:only-of-type {\n",
       "        vertical-align: middle;\n",
       "    }\n",
       "\n",
       "    .dataframe tbody tr th {\n",
       "        vertical-align: top;\n",
       "    }\n",
       "\n",
       "    .dataframe thead th {\n",
       "        text-align: right;\n",
       "    }\n",
       "</style>\n",
       "<table border=\"1\" class=\"dataframe\">\n",
       "  <thead>\n",
       "    <tr style=\"text-align: right;\">\n",
       "      <th></th>\n",
       "      <th>Reference Number</th>\n",
       "      <th>Title of referral</th>\n",
       "      <th>Notification from EPBC Act</th>\n",
       "      <th>Date of notice</th>\n",
       "      <th>PDF Attachments</th>\n",
       "      <th>Non PDF Attachments</th>\n",
       "      <th>Download</th>\n",
       "      <th>Download Folder</th>\n",
       "      <th>PDFs Combined</th>\n",
       "    </tr>\n",
       "  </thead>\n",
       "  <tbody>\n",
       "    <tr>\n",
       "      <th>24</th>\n",
       "      <td>2021/8954</td>\n",
       "      <td>Department of Environment and Science/Tourism ...</td>\n",
       "      <td>Invitation for Public Comment on Referral</td>\n",
       "      <td>01/06/2021</td>\n",
       "      <td>Yes</td>\n",
       "      <td>No</td>\n",
       "      <td>Success</td>\n",
       "      <td>20218954_01062021_department_of_environment_an...</td>\n",
       "      <td>No</td>\n",
       "    </tr>\n",
       "    <tr>\n",
       "      <th>47</th>\n",
       "      <td>2021/8942</td>\n",
       "      <td>Gascoyne Gateway Ltd/Transport - Water/10 km s...</td>\n",
       "      <td>Invitation for Public Comment on Referral</td>\n",
       "      <td>25/05/2021</td>\n",
       "      <td>Yes</td>\n",
       "      <td>No</td>\n",
       "      <td>Success</td>\n",
       "      <td>20218942_25052021_gascoyne_gateway_ltd_invitat...</td>\n",
       "      <td>No</td>\n",
       "    </tr>\n",
       "    <tr>\n",
       "      <th>55</th>\n",
       "      <td>2021/8877</td>\n",
       "      <td>Winchelsea Mining Pty Ltd/Mining/, Winchelsea ...</td>\n",
       "      <td>Invitation for Public Comment on Referral</td>\n",
       "      <td>21/05/2021</td>\n",
       "      <td>Yes</td>\n",
       "      <td>No</td>\n",
       "      <td>Success</td>\n",
       "      <td>20218877_21052021_winchelsea_mining_pty_ltd_in...</td>\n",
       "      <td>No</td>\n",
       "    </tr>\n",
       "    <tr>\n",
       "      <th>72</th>\n",
       "      <td>2021/8937</td>\n",
       "      <td>Gunyar Pty Limited/Commercial Development/, CS...</td>\n",
       "      <td>Invitation for Public Comment on Referral</td>\n",
       "      <td>17/05/2021</td>\n",
       "      <td>Yes</td>\n",
       "      <td>No</td>\n",
       "      <td>Success</td>\n",
       "      <td>20218937_17052021_gunyar_pty_limited_invitatio...</td>\n",
       "      <td>No</td>\n",
       "    </tr>\n",
       "    <tr>\n",
       "      <th>78</th>\n",
       "      <td>2021/8919</td>\n",
       "      <td>South Australian Water Corporation/Water Manag...</td>\n",
       "      <td>Invitation for Public Comment on Referral</td>\n",
       "      <td>13/05/2021</td>\n",
       "      <td>Yes</td>\n",
       "      <td>No</td>\n",
       "      <td>Success</td>\n",
       "      <td>20218919_13052021_south_australian_water_corpo...</td>\n",
       "      <td>No</td>\n",
       "    </tr>\n",
       "  </tbody>\n",
       "</table>\n",
       "</div>"
      ],
      "text/plain": [
       "   Reference Number                                  Title of referral  \\\n",
       "24        2021/8954  Department of Environment and Science/Tourism ...   \n",
       "47        2021/8942  Gascoyne Gateway Ltd/Transport - Water/10 km s...   \n",
       "55        2021/8877  Winchelsea Mining Pty Ltd/Mining/, Winchelsea ...   \n",
       "72        2021/8937  Gunyar Pty Limited/Commercial Development/, CS...   \n",
       "78        2021/8919  South Australian Water Corporation/Water Manag...   \n",
       "\n",
       "                   Notification from EPBC Act Date of notice PDF Attachments  \\\n",
       "24  Invitation for Public Comment on Referral     01/06/2021             Yes   \n",
       "47  Invitation for Public Comment on Referral     25/05/2021             Yes   \n",
       "55  Invitation for Public Comment on Referral     21/05/2021             Yes   \n",
       "72  Invitation for Public Comment on Referral     17/05/2021             Yes   \n",
       "78  Invitation for Public Comment on Referral     13/05/2021             Yes   \n",
       "\n",
       "   Non PDF Attachments Download  \\\n",
       "24                  No  Success   \n",
       "47                  No  Success   \n",
       "55                  No  Success   \n",
       "72                  No  Success   \n",
       "78                  No  Success   \n",
       "\n",
       "                                      Download Folder PDFs Combined  \n",
       "24  20218954_01062021_department_of_environment_an...            No  \n",
       "47  20218942_25052021_gascoyne_gateway_ltd_invitat...            No  \n",
       "55  20218877_21052021_winchelsea_mining_pty_ltd_in...            No  \n",
       "72  20218937_17052021_gunyar_pty_limited_invitatio...            No  \n",
       "78  20218919_13052021_south_australian_water_corpo...            No  "
      ]
     },
     "execution_count": 17,
     "metadata": {},
     "output_type": "execute_result"
    }
   ],
   "source": [
    "stored_table.loc[np.logical_and(stored_table['PDF Attachments'] == 'Yes', stored_table['PDFs Combined'] == 'No')]"
   ]
  }
 ],
 "metadata": {
  "kernelspec": {
   "display_name": "Python 3",
   "language": "python",
   "name": "python3"
  },
  "language_info": {
   "codemirror_mode": {
    "name": "ipython",
    "version": 3
   },
   "file_extension": ".py",
   "mimetype": "text/x-python",
   "name": "python",
   "nbconvert_exporter": "python",
   "pygments_lexer": "ipython3",
   "version": "3.9.4"
  },
  "toc": {
   "base_numbering": 1,
   "nav_menu": {},
   "number_sections": true,
   "sideBar": true,
   "skip_h1_title": false,
   "title_cell": "Table of Contents",
   "title_sidebar": "Contents",
   "toc_cell": false,
   "toc_position": {
    "height": "calc(100% - 180px)",
    "left": "10px",
    "top": "150px",
    "width": "370.594px"
   },
   "toc_section_display": true,
   "toc_window_display": true
  }
 },
 "nbformat": 4,
 "nbformat_minor": 2
}
