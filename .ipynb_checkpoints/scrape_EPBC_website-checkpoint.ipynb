{
 "cells": [
  {
   "cell_type": "code",
   "execution_count": 1,
   "metadata": {
    "ExecuteTime": {
     "end_time": "2021-06-22T01:42:56.646714Z",
     "start_time": "2021-06-22T01:42:56.605855Z"
    }
   },
   "outputs": [
    {
     "name": "stdout",
     "output_type": "stream",
     "text": [
      "Automatic pdb calling has been turned ON\n"
     ]
    }
   ],
   "source": [
    "%load_ext autoreload\n",
    "%autoreload 2\n",
    "%pdb"
   ]
  },
  {
   "cell_type": "code",
   "execution_count": 1,
   "metadata": {
    "ExecuteTime": {
     "end_time": "2021-06-22T07:09:23.633168Z",
     "start_time": "2021-06-22T07:05:57.053433Z"
    }
   },
   "outputs": [
    {
     "name": "stdout",
     "output_type": "stream",
     "text": [
      "Scraping page 17, row 26.\n",
      "Downloading files. Please Wait.\n",
      "Downloading files. Please Wait.\n",
      "Downloading files. Please Wait.\n",
      "Downloading files. Please Wait.\n",
      "Multiple iframe pages.\n",
      "Downloading from next iframe page.\n",
      "Downloading files. Please Wait.\n",
      "Creating combined PDF file.\n",
      "This may take a few minutes.\n",
      "Scraping page 17, row 27.\n",
      "Downloading files. Please Wait.\n",
      "Creating combined PDF file.\n",
      "This may take a few minutes.\n",
      "Scraping page 17, row 28.\n",
      "Downloading files. Please Wait.\n",
      "Creating combined PDF file.\n",
      "This may take a few minutes.\n",
      "Scraping page 17, row 29.\n",
      "Downloading files. Please Wait.\n",
      "Creating combined PDF file.\n",
      "This may take a few minutes.\n",
      "Scraping page 17, row 30.\n",
      "Downloading files. Please Wait.\n",
      "Creating combined PDF file.\n",
      "This may take a few minutes.\n"
     ]
    }
   ],
   "source": [
    "import scrape_EPBC\n",
    "scrape_EPBC.scrape_website(None, end_page=18)"
   ]
  },
  {
   "cell_type": "code",
   "execution_count": null,
   "metadata": {},
   "outputs": [],
   "source": []
  }
 ],
 "metadata": {
  "kernelspec": {
   "display_name": "Python 3",
   "language": "python",
   "name": "python3"
  },
  "language_info": {
   "codemirror_mode": {
    "name": "ipython",
    "version": 3
   },
   "file_extension": ".py",
   "mimetype": "text/x-python",
   "name": "python",
   "nbconvert_exporter": "python",
   "pygments_lexer": "ipython3",
   "version": "3.9.4"
  },
  "toc": {
   "base_numbering": 1,
   "nav_menu": {},
   "number_sections": true,
   "sideBar": true,
   "skip_h1_title": false,
   "title_cell": "Table of Contents",
   "title_sidebar": "Contents",
   "toc_cell": false,
   "toc_position": {
    "height": "calc(100% - 180px)",
    "left": "10px",
    "top": "150px",
    "width": "370.594px"
   },
   "toc_section_display": true,
   "toc_window_display": true
  }
 },
 "nbformat": 4,
 "nbformat_minor": 2
}
