{
 "cells": [
  {
   "cell_type": "code",
   "execution_count": 1,
   "id": "5a6f0adb",
   "metadata": {
    "ExecuteTime": {
     "end_time": "2021-04-24T03:26:01.386315Z",
     "start_time": "2021-04-24T03:26:01.255685Z"
    }
   },
   "outputs": [],
   "source": [
    "import numpy as np\n",
    "import itertools"
   ]
  },
  {
   "cell_type": "code",
   "execution_count": 2,
   "id": "10fe4b43",
   "metadata": {
    "ExecuteTime": {
     "end_time": "2021-04-24T03:26:01.600671Z",
     "start_time": "2021-04-24T03:26:01.593119Z"
    }
   },
   "outputs": [],
   "source": [
    "players = set(['A', 'B', 'C', 'D', 'E', 'F'])"
   ]
  },
  {
   "cell_type": "code",
   "execution_count": null,
   "id": "c23cbc47",
   "metadata": {
    "ExecuteTime": {
     "start_time": "2021-04-24T03:30:15.293Z"
    }
   },
   "outputs": [
    {
     "name": "stdout",
     "output_type": "stream",
     "text": [
      "> \u001b[0;32m<ipython-input-11-3c7cd6a2b12e>\u001b[0m(10)\u001b[0;36m<module>\u001b[0;34m()\u001b[0m\n",
      "\u001b[0;32m      6 \u001b[0;31m\u001b[0mcombinations_unique\u001b[0m \u001b[0;34m=\u001b[0m \u001b[0mnp\u001b[0m\u001b[0;34m.\u001b[0m\u001b[0marray\u001b[0m\u001b[0;34m(\u001b[0m\u001b[0;34m[\u001b[0m\u001b[0mcombinations\u001b[0m\u001b[0;34m[\u001b[0m\u001b[0;36m0\u001b[0m\u001b[0;34m]\u001b[0m\u001b[0;34m]\u001b[0m\u001b[0;34m)\u001b[0m\u001b[0;34m\u001b[0m\u001b[0;34m\u001b[0m\u001b[0m\n",
      "\u001b[0m\u001b[0;32m      7 \u001b[0;31m\u001b[0;32mfor\u001b[0m \u001b[0mc\u001b[0m \u001b[0;32min\u001b[0m \u001b[0mcombinations\u001b[0m\u001b[0;34m:\u001b[0m\u001b[0;34m\u001b[0m\u001b[0;34m\u001b[0m\u001b[0m\n",
      "\u001b[0m\u001b[0;32m      8 \u001b[0;31m    \u001b[0;32mif\u001b[0m \u001b[0mnp\u001b[0m\u001b[0;34m.\u001b[0m\u001b[0mall\u001b[0m\u001b[0;34m(\u001b[0m\u001b[0mc\u001b[0m\u001b[0;34m[\u001b[0m\u001b[0;36m1\u001b[0m\u001b[0;34m]\u001b[0m \u001b[0;34m!=\u001b[0m \u001b[0mcombinations_unique\u001b[0m\u001b[0;34m[\u001b[0m\u001b[0;34m:\u001b[0m\u001b[0;34m,\u001b[0m\u001b[0;36m0\u001b[0m\u001b[0;34m]\u001b[0m\u001b[0;34m)\u001b[0m\u001b[0;34m:\u001b[0m\u001b[0;34m\u001b[0m\u001b[0;34m\u001b[0m\u001b[0m\n",
      "\u001b[0m\u001b[0;32m      9 \u001b[0;31m        \u001b[0;32mimport\u001b[0m \u001b[0mpdb\u001b[0m\u001b[0;34m;\u001b[0m \u001b[0mpdb\u001b[0m\u001b[0;34m.\u001b[0m\u001b[0mset_trace\u001b[0m\u001b[0;34m(\u001b[0m\u001b[0;34m)\u001b[0m\u001b[0;34m\u001b[0m\u001b[0;34m\u001b[0m\u001b[0m\n",
      "\u001b[0m\u001b[0;32m---> 10 \u001b[0;31m        \u001b[0mcombinations_unique\u001b[0m \u001b[0;34m=\u001b[0m \u001b[0mnp\u001b[0m\u001b[0;34m.\u001b[0m\u001b[0mappend\u001b[0m\u001b[0;34m(\u001b[0m\u001b[0mcombinations_unique\u001b[0m\u001b[0;34m,\u001b[0m \u001b[0mnp\u001b[0m\u001b[0;34m.\u001b[0m\u001b[0marray\u001b[0m\u001b[0;34m(\u001b[0m\u001b[0;34m[\u001b[0m\u001b[0mc\u001b[0m\u001b[0;34m]\u001b[0m\u001b[0;34m)\u001b[0m\u001b[0;34m,\u001b[0m \u001b[0maxis\u001b[0m\u001b[0;34m=\u001b[0m\u001b[0;36m0\u001b[0m\u001b[0;34m)\u001b[0m\u001b[0;34m\u001b[0m\u001b[0;34m\u001b[0m\u001b[0m\n",
      "\u001b[0m\n",
      "ipdb> print(c[1])\n",
      "{'D', 'C', 'F'}\n"
     ]
    }
   ],
   "source": [
    "combinations = list(itertools.combinations(players, 3))\n",
    "combinations = [\n",
    "    [set(c), players.difference(c)] for c in combinations\n",
    "]\n",
    "combinations = np.array(combinations)\n",
    "combinations_unique = np.array([combinations[0]])\n",
    "for c in combinations:\n",
    "    if (\n",
    "        np.all(c[1] != combinations_unique[:,0]) \n",
    "        and np.all(c[0] != combinations_unique[:,0])\n",
    "    ):\n",
    "        import pdb; pdb.set_trace()\n",
    "        combinations_unique = np.append(combinations_unique, np.array([c]), axis=0)"
   ]
  },
  {
   "cell_type": "code",
   "execution_count": 8,
   "id": "b7794ce0",
   "metadata": {
    "ExecuteTime": {
     "end_time": "2021-04-24T03:27:27.189355Z",
     "start_time": "2021-04-24T03:27:27.184180Z"
    }
   },
   "outputs": [
    {
     "data": {
      "text/plain": [
       "array([[{'E', 'B', 'A'}, {'D', 'C', 'F'}],\n",
       "       [{'E', 'B', 'A'}, {'D', 'C', 'F'}],\n",
       "       [{'C', 'B', 'A'}, {'D', 'F', 'E'}],\n",
       "       [{'F', 'B', 'A'}, {'D', 'C', 'E'}],\n",
       "       [{'D', 'B', 'A'}, {'C', 'F', 'E'}],\n",
       "       [{'C', 'E', 'B'}, {'D', 'A', 'F'}],\n",
       "       [{'F', 'E', 'B'}, {'D', 'A', 'C'}],\n",
       "       [{'D', 'E', 'B'}, {'A', 'C', 'F'}],\n",
       "       [{'F', 'C', 'B'}, {'D', 'A', 'E'}],\n",
       "       [{'D', 'C', 'B'}, {'A', 'F', 'E'}],\n",
       "       [{'F', 'D', 'B'}, {'A', 'C', 'E'}]], dtype=object)"
      ]
     },
     "execution_count": 8,
     "metadata": {},
     "output_type": "execute_result"
    }
   ],
   "source": [
    "combinations_unique"
   ]
  },
  {
   "cell_type": "code",
   "execution_count": null,
   "id": "28950a9a",
   "metadata": {},
   "outputs": [],
   "source": []
  }
 ],
 "metadata": {
  "kernelspec": {
   "display_name": "Python 3",
   "language": "python",
   "name": "python3"
  },
  "language_info": {
   "codemirror_mode": {
    "name": "ipython",
    "version": 3
   },
   "file_extension": ".py",
   "mimetype": "text/x-python",
   "name": "python",
   "nbconvert_exporter": "python",
   "pygments_lexer": "ipython3",
   "version": "3.9.2"
  },
  "toc": {
   "base_numbering": 1,
   "nav_menu": {},
   "number_sections": true,
   "sideBar": true,
   "skip_h1_title": false,
   "title_cell": "Table of Contents",
   "title_sidebar": "Contents",
   "toc_cell": false,
   "toc_position": {},
   "toc_section_display": true,
   "toc_window_display": false
  }
 },
 "nbformat": 4,
 "nbformat_minor": 5
}
