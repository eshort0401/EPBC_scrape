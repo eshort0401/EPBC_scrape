{
 "cells": [
  {
   "cell_type": "markdown",
   "metadata": {},
   "source": [
    "First, import the Python modules necessary for this notebook to run. These can be installed using, for instance, `pip` or `conda`. "
   ]
  },
  {
   "cell_type": "code",
   "execution_count": 1,
   "metadata": {
    "ExecuteTime": {
     "end_time": "2021-02-27T08:05:10.215261Z",
     "start_time": "2021-02-27T08:05:09.503983Z"
    }
   },
   "outputs": [],
   "source": [
    "import numpy as np # Handles maths\n",
    "import pandas as pd # Good for tables of data\n",
    "import matplotlib.pyplot as plt # Handles graphing\n",
    "import xarray as xr # Helpful for spatial data\n",
    "import requests # Downloads webpages\n",
    "from bs4 import BeautifulSoup # For parsing webpages\n",
    "from selenium import webdriver \n",
    "import os, sys\n",
    "import time\n",
    "import subprocess"
   ]
  },
  {
   "cell_type": "code",
   "execution_count": 2,
   "metadata": {
    "ExecuteTime": {
     "end_time": "2021-02-27T08:05:11.037785Z",
     "start_time": "2021-02-27T08:05:11.034701Z"
    }
   },
   "outputs": [],
   "source": [
    "url = \"http://epbcnotices.environment.gov.au/publicnoticesreferrals\""
   ]
  },
  {
   "cell_type": "code",
   "execution_count": 3,
   "metadata": {
    "ExecuteTime": {
     "end_time": "2021-02-27T08:05:22.758198Z",
     "start_time": "2021-02-27T08:05:11.711552Z"
    }
   },
   "outputs": [],
   "source": [
    "options = webdriver.ChromeOptions()\n",
    "options.add_argument('--ignore-certificate-errors')\n",
    "options.add_argument('--incognito')\n",
    "options.add_argument(\"--start-maximized\")\n",
    "# options.add_argument('--headless') # Remove to see the actions on website\n",
    "\n",
    "base_dir = '/home/student.unimelb.edu.au/shorte1/Documents/ACF_consulting/files'\n",
    "\n",
    "options.add_experimental_option(\"prefs\", {\n",
    "  \"download.default_directory\": base_dir,\n",
    "  \"download.prompt_for_download\": False,\n",
    "  \"download.directory_upgrade\": True,\n",
    "  \"safebrowsing.enabled\": True,\n",
    "  \"plugins.always_open_pdf_externally\": True\n",
    "})\n",
    "\n",
    "driver = webdriver.Chrome('/usr/bin/chromedriver', options=options)\n",
    "driver.get(url);\n",
    "time.sleep(10 + np.random.rand()*10-5) # Give data time to load\n",
    "page_source = driver.page_source\n",
    "soup = BeautifulSoup(page_source)\n",
    "\n",
    "table = pd.read_html(soup.prettify())[0]\n",
    "\n",
    "def clean_columns(table):\n",
    "    name_dict = {}\n",
    "    clean_str = '  . Activate to sort in descending order'\n",
    "    for col in range(len(table.columns)): \n",
    "        name_dict[table.columns[col]] = table.columns[col].replace(clean_str, '')\n",
    "    return table.rename(name_dict, axis='columns')\n",
    "    \n",
    "table = clean_columns(table)"
   ]
  },
  {
   "cell_type": "code",
   "execution_count": 4,
   "metadata": {
    "ExecuteTime": {
     "end_time": "2021-02-27T08:05:39.979770Z",
     "start_time": "2021-02-27T08:05:22.763828Z"
    }
   },
   "outputs": [],
   "source": [
    "details_buttons = driver.find_elements_by_xpath(\n",
    "        '//a[@class=\"btn btn-default btn-xs\" and @href=\"#\" and @data-toggle=\"dropdown\"]'\n",
    "    )\n",
    "details_links = driver.find_elements_by_xpath(\n",
    "        '//a[@class=\"details-link launch-modal\" and @href=\"#\" and @title=\"View Details\"]'\n",
    "    )\n",
    "\n",
    "# Iterate over the 30 entries in the table\n",
    "for i in range(1):\n",
    "    details_buttons[i].click()\n",
    "    time.sleep(2)\n",
    "    details_links[i].click()\n",
    "    time.sleep(2)\n",
    "    \n",
    "    iframe = driver.find_elements_by_xpath(\n",
    "        '//section[@class=\"modal fade modal-form modal-form-details in\"]'\n",
    "        + '/div/div/div/iframe'\n",
    "    )\n",
    "    driver.switch_to.frame(iframe[0])\n",
    "\n",
    "    file_links = driver.find_elements_by_xpath(\n",
    "        \"//a[contains(@href, '/_entity/annotation/')]\"\n",
    "    )\n",
    "    \n",
    "    for i in range(len(file_links)):\n",
    "        file_links[i].click()\n",
    "        time.sleep(2)\n",
    "            \n",
    "    # After files downloaded, move them to appropriate folder\n",
    "    folder_name = table['Reference Number'].iloc[i].replace('/','')\n",
    "    folder_path = base_dir + '/' + folder_name\n",
    "    subprocess.run(['rm', '-r', folder_path]) \n",
    "    subprocess.run(['mkdir', folder_path])\n",
    "    subprocess.run('mv ' + base_dir + '/*.pdf ' + folder_path, shell=True)\n",
    "\n",
    "\n",
    "# driver.switch_to.default_content()"
   ]
  },
  {
   "cell_type": "code",
   "execution_count": null,
   "metadata": {
    "ExecuteTime": {
     "end_time": "2021-02-27T03:19:17.439331Z",
     "start_time": "2021-02-27T03:18:59.173400Z"
    }
   },
   "outputs": [],
   "source": [
    "for i in range(2,3):\n",
    "\n",
    "    next_button = driver.find_elements_by_xpath(\n",
    "        '//a[@href=\"#\" and @data-page=\"' + str(i) + '\"]'\n",
    "    )[1]\n",
    "    next_button.click()\n",
    "    time.sleep(10+np.random.rand()*10-5)\n",
    "    page_source = driver.page_source\n",
    "    new_soup = BeautifulSoup(page_source)\n",
    "    new_table = pd.read_html(new_soup.prettify())[0]\n",
    "    new_table = clean_columns(new_table)\n",
    "    table = table.append(new_table, ignore_index=True)\n",
    "\n",
    "driver.quit()"
   ]
  },
  {
   "cell_type": "code",
   "execution_count": null,
   "metadata": {},
   "outputs": [],
   "source": []
  },
  {
   "cell_type": "code",
   "execution_count": 5,
   "metadata": {
    "ExecuteTime": {
     "end_time": "2021-02-27T06:03:30.717661Z",
     "start_time": "2021-02-27T06:03:30.611116Z"
    }
   },
   "outputs": [],
   "source": [
    "file_links[1].click()"
   ]
  },
  {
   "cell_type": "code",
   "execution_count": null,
   "metadata": {
    "ExecuteTime": {
     "end_time": "2021-02-27T04:38:54.997706Z",
     "start_time": "2021-02-27T04:38:52.798494Z"
    }
   },
   "outputs": [],
   "source": [
    "details_buttons[0].click()\n",
    "time.sleep(2)\n",
    "details_links[0].click()"
   ]
  },
  {
   "cell_type": "code",
   "execution_count": null,
   "metadata": {
    "ExecuteTime": {
     "end_time": "2021-02-27T05:15:17.758585Z",
     "start_time": "2021-02-27T05:15:17.742314Z"
    }
   },
   "outputs": [],
   "source": [
    "iframe = driver.find_elements_by_xpath('//section[@class=\"modal fade modal-form modal-form-details in\"]/div/div/div/iframe')"
   ]
  },
  {
   "cell_type": "code",
   "execution_count": null,
   "metadata": {
    "ExecuteTime": {
     "end_time": "2021-02-27T05:15:25.056472Z",
     "start_time": "2021-02-27T05:15:25.011535Z"
    }
   },
   "outputs": [],
   "source": [
    "driver.switch_to.frame(iframetest[0])"
   ]
  },
  {
   "cell_type": "code",
   "execution_count": null,
   "metadata": {},
   "outputs": [],
   "source": [
    "<section aria-hidden=\"false\" class=\"modal fade modal-form modal-form-details in\" role=\"dialog\" tabindex=\"-1\" style=\"display: block; padding-right: 15px;\"><div class=\"modal-lg modal-dialog\"><div class=\"modal-content\"><div class=\"modal-header\"><button class=\"close\" data-dismiss=\"modal\" type=\"button\"><span aria-hidden=\"true\">×</span><span class=\"sr-only\">Close</span></button><h1 class=\"modal-title h4\">Decision Notice Details</h1></div><div class=\"modal-body\"><div class=\"form-loading\" style=\"display: none;\"><span class=\"fa fa-spinner fa-spin fa-4x\" aria-hidden=\"true\"></span></div><iframe data-page=\"/_portal/modal-form-template-path/a71d58ad-4cba-48b6-8dab-f3091fc31cd5\" src=\"/_portal/modal-form-template-path/a71d58ad-4cba-48b6-8dab-f3091fc31cd5?id=bd343a19-e377-eb11-80c2-00505684c137&amp;entityformid=bd49f92c-14e8-431d-bd40-e6fdc206cddb&amp;languagecode=1033\"></iframe></div></div></div></section>"
   ]
  },
  {
   "cell_type": "code",
   "execution_count": null,
   "metadata": {
    "ExecuteTime": {
     "end_time": "2021-02-27T05:08:10.047654Z",
     "start_time": "2021-02-27T05:08:10.010260Z"
    }
   },
   "outputs": [],
   "source": [
    "driver.find_elements_by_xpath(\"//iframe[contains(@data_page, '')]\")"
   ]
  },
  {
   "cell_type": "code",
   "execution_count": null,
   "metadata": {},
   "outputs": [],
   "source": [
    "<section aria-hidden=\"false\" class=\"modal fade modal-form modal-form-details in\" role=\"dialog\" tabindex=\"-1\" style=\"display: block; padding-right: 15px;\"><div class=\"modal-lg modal-dialog\"><div class=\"modal-content\"><div class=\"modal-header\"><button class=\"close\" data-dismiss=\"modal\" type=\"button\"><span aria-hidden=\"true\">×</span><span class=\"sr-only\">Close</span></button><h1 class=\"modal-title h4\">Decision Notice Details</h1></div><div class=\"modal-body\"><div class=\"form-loading\" style=\"display: none;\"><span class=\"fa fa-spinner fa-spin fa-4x\" aria-hidden=\"true\"></span></div><iframe data-page=\"/_portal/modal-form-template-path/a71d58ad-4cba-48b6-8dab-f3091fc31cd5\" src=\"/_portal/modal-form-template-path/a71d58ad-4cba-48b6-8dab-f3091fc31cd5?id=bd343a19-e377-eb11-80c2-00505684c137&amp;entityformid=bd49f92c-14e8-431d-bd40-e6fdc206cddb&amp;languagecode=1033\"></iframe></div></div></div></section>"
   ]
  },
  {
   "cell_type": "code",
   "execution_count": null,
   "metadata": {},
   "outputs": [],
   "source": [
    "<iframe data-page=\"/_portal/modal-form-template-path/a71d58ad-4cba-48b6-8dab-f3091fc31cd5\" src=\"\"></iframe>"
   ]
  },
  {
   "cell_type": "code",
   "execution_count": null,
   "metadata": {
    "ExecuteTime": {
     "end_time": "2021-02-27T05:16:55.143841Z",
     "start_time": "2021-02-27T05:16:55.125639Z"
    }
   },
   "outputs": [],
   "source": [
    "file_links = driver.find_elements_by_xpath(\n",
    "        \"//a[contains(@href, '/_entity/annotation/')]\"\n",
    ")"
   ]
  },
  {
   "cell_type": "code",
   "execution_count": null,
   "metadata": {
    "ExecuteTime": {
     "end_time": "2021-02-27T05:16:55.787971Z",
     "start_time": "2021-02-27T05:16:55.776959Z"
    }
   },
   "outputs": [],
   "source": [
    "file_links"
   ]
  },
  {
   "cell_type": "code",
   "execution_count": null,
   "metadata": {
    "ExecuteTime": {
     "end_time": "2021-02-27T05:21:16.476240Z",
     "start_time": "2021-02-27T05:21:03.665648Z"
    }
   },
   "outputs": [],
   "source": [
    "for i in range(len(file_links)):\n",
    "    file_links[i].click()\n",
    "    time.sleep(2)"
   ]
  },
  {
   "cell_type": "code",
   "execution_count": 6,
   "metadata": {
    "ExecuteTime": {
     "end_time": "2021-02-27T05:59:24.259378Z",
     "start_time": "2021-02-27T05:59:24.253287Z"
    }
   },
   "outputs": [],
   "source": [
    "download_headless(driver, base_dir)"
   ]
  },
  {
   "cell_type": "code",
   "execution_count": null,
   "metadata": {
    "ExecuteTime": {
     "end_time": "2021-02-27T05:37:09.551722Z",
     "start_time": "2021-02-27T05:37:09.434253Z"
    }
   },
   "outputs": [],
   "source": [
    "file_links[0].click()"
   ]
  },
  {
   "cell_type": "code",
   "execution_count": null,
   "metadata": {
    "ExecuteTime": {
     "end_time": "2021-02-27T04:49:59.898008Z",
     "start_time": "2021-02-27T04:49:59.864233Z"
    }
   },
   "outputs": [],
   "source": [
    "driver.find_elements_by_xpath('//section[@class=\"modal fade modal-form modal-form-details in\" and @role=\"dialog\"]')"
   ]
  },
  {
   "cell_type": "code",
   "execution_count": null,
   "metadata": {},
   "outputs": [],
   "source": [
    "<section aria-hidden=\"false\" class=\"modal fade modal-form modal-form-details in\" role=\"dialog\" tabindex=\"-1\" style=\"display: block; padding-right: 15px;\"><div class=\"modal-lg modal-dialog\"><div class=\"modal-content\"><div class=\"modal-header\"><button class=\"close\" data-dismiss=\"modal\" type=\"button\"><span aria-hidden=\"true\">×</span><span class=\"sr-only\">Close</span></button><h1 class=\"modal-title h4\">Decision Notice Details</h1></div><div class=\"modal-body\"><div class=\"form-loading\" style=\"display: none;\"><span class=\"fa fa-spinner fa-spin fa-4x\" aria-hidden=\"true\"></span></div><iframe data-page=\"/_portal/modal-form-template-path/a71d58ad-4cba-48b6-8dab-f3091fc31cd5\" src=\"/_portal/modal-form-template-path/a71d58ad-4cba-48b6-8dab-f3091fc31cd5?id=bd343a19-e377-eb11-80c2-00505684c137&amp;entityformid=bd49f92c-14e8-431d-bd40-e6fdc206cddb&amp;languagecode=1033\"></iframe></div></div></div></section>"
   ]
  },
  {
   "cell_type": "code",
   "execution_count": null,
   "metadata": {
    "ExecuteTime": {
     "end_time": "2021-02-27T04:42:08.382726Z",
     "start_time": "2021-02-27T04:42:08.377955Z"
    }
   },
   "outputs": [],
   "source": [
    "<iframe data-page=\"/_portal/modal-form-template-path/a71d58ad-4cba-48b6-8dab-f3091fc31cd5\" src=\"/_portal/modal-form-template-path/a71d58ad-4cba-48b6-8dab-f3091fc31cd5?id=bd343a19-e377-eb11-80c2-00505684c137&amp;entityformid=bd49f92c-14e8-431d-bd40-e6fdc206cddb&amp;languagecode=1033\"></iframe>"
   ]
  },
  {
   "cell_type": "code",
   "execution_count": null,
   "metadata": {
    "ExecuteTime": {
     "end_time": "2021-02-27T04:38:34.633757Z",
     "start_time": "2021-02-27T04:38:34.618402Z"
    }
   },
   "outputs": [],
   "source": [
    "\n",
    "driver.quit()"
   ]
  },
  {
   "cell_type": "code",
   "execution_count": null,
   "metadata": {},
   "outputs": [],
   "source": [
    "<a href=\"/_entity/annotation/dabd9519-e477-eb11-80c2-00505684c137/a71d58ad-4cba-48b6-8dab-f3091fc31cd5?t=1614398517390\" target=\"_blank\">2021-8889 - referral.pdf (333.70 KB)</a>"
   ]
  },
  {
   "cell_type": "code",
   "execution_count": null,
   "metadata": {
    "ExecuteTime": {
     "end_time": "2021-02-27T03:50:42.529089Z",
     "start_time": "2021-02-27T03:50:42.520548Z"
    }
   },
   "outputs": [],
   "source": [
    "len(details_links)\n",
    "# <a class=\"details-link launch-modal\" role=\"menuitem\" tabindex=\"-1\" href=\"#\" title=\"View Details\" data-entityformid=\"bd49f92c-14e8-431d-bd40-e6fdc206cddb\"><span class=\"fa fa-info-circle fa-lg fa-fw\" aria-hidden=\"true\"></span> View Details</a>"
   ]
  },
  {
   "cell_type": "code",
   "execution_count": null,
   "metadata": {
    "ExecuteTime": {
     "end_time": "2021-02-27T03:16:00.461886Z",
     "start_time": "2021-02-27T03:16:00.422738Z"
    }
   },
   "outputs": [],
   "source": [
    "table"
   ]
  },
  {
   "cell_type": "code",
   "execution_count": null,
   "metadata": {},
   "outputs": [],
   "source": []
  }
 ],
 "metadata": {
  "kernelspec": {
   "display_name": "Python 3",
   "language": "python",
   "name": "python3"
  },
  "language_info": {
   "codemirror_mode": {
    "name": "ipython",
    "version": 3
   },
   "file_extension": ".py",
   "mimetype": "text/x-python",
   "name": "python",
   "nbconvert_exporter": "python",
   "pygments_lexer": "ipython3",
   "version": "3.6.8"
  },
  "toc": {
   "base_numbering": 1,
   "nav_menu": {},
   "number_sections": true,
   "sideBar": true,
   "skip_h1_title": false,
   "title_cell": "Table of Contents",
   "title_sidebar": "Contents",
   "toc_cell": false,
   "toc_position": {},
   "toc_section_display": true,
   "toc_window_display": false
  }
 },
 "nbformat": 4,
 "nbformat_minor": 2
}
