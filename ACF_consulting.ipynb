{
 "cells": [
  {
   "cell_type": "markdown",
   "metadata": {},
   "source": [
    "First, import the Python modules necessary for this notebook to run. These can be installed using, for instance, `pip` or `conda`. "
   ]
  },
  {
   "cell_type": "code",
   "execution_count": 1,
   "metadata": {
    "ExecuteTime": {
     "end_time": "2021-03-01T02:44:20.862938Z",
     "start_time": "2021-03-01T02:44:20.061984Z"
    }
   },
   "outputs": [],
   "source": [
    "import numpy as np # Handles maths\n",
    "import pandas as pd # Good for tables of data\n",
    "import matplotlib.pyplot as plt # Handles graphing\n",
    "import xarray as xr # Helpful for spatial data\n",
    "import requests # Downloads webpages\n",
    "from bs4 import BeautifulSoup # For parsing webpages\n",
    "from selenium import webdriver \n",
    "import os, sys\n",
    "import time\n",
    "import subprocess\n",
    "import re"
   ]
  },
  {
   "cell_type": "code",
   "execution_count": 2,
   "metadata": {
    "ExecuteTime": {
     "end_time": "2021-03-01T02:44:20.866887Z",
     "start_time": "2021-03-01T02:44:20.864548Z"
    }
   },
   "outputs": [],
   "source": [
    "url = \"http://epbcnotices.environment.gov.au/publicnoticesreferrals\""
   ]
  },
  {
   "cell_type": "code",
   "execution_count": 3,
   "metadata": {
    "ExecuteTime": {
     "end_time": "2021-03-01T02:44:28.346443Z",
     "start_time": "2021-03-01T02:44:20.868846Z"
    }
   },
   "outputs": [],
   "source": [
    "options = webdriver.ChromeOptions()\n",
    "options.add_argument('--ignore-certificate-errors')\n",
    "options.add_argument('--incognito')\n",
    "options.add_argument(\"--start-maximized\")\n",
    "# options.add_argument('--headless') # Remove to see the actions on website\n",
    "\n",
    "base_dir = '/home/student.unimelb.edu.au/shorte1/Documents/ACF_consulting/files'\n",
    "\n",
    "options.add_experimental_option(\"prefs\", {\n",
    "  \"download.default_directory\": base_dir,\n",
    "  \"download.prompt_for_download\": False,\n",
    "  \"download.directory_upgrade\": True,\n",
    "  \"safebrowsing.enabled\": True,\n",
    "  \"plugins.always_open_pdf_externally\": True\n",
    "})\n",
    "\n",
    "driver = webdriver.Chrome('/usr/bin/chromedriver', options=options)\n",
    "driver.get(url);\n",
    "time.sleep(5) # Give data time to load\n",
    "page_source = driver.page_source\n",
    "soup = BeautifulSoup(page_source)\n",
    "\n",
    "table = pd.read_html(soup.prettify())[0]\n",
    "\n",
    "def clean_columns(table):\n",
    "    name_dict = {}\n",
    "    clean_str = '  . Activate to sort in descending order'\n",
    "    for col in range(len(table.columns)): \n",
    "        name_dict[table.columns[col]] = table.columns[col].replace(clean_str, '')\n",
    "    return table.rename(name_dict, axis='columns')\n",
    "    \n",
    "table = clean_columns(table)\n",
    "table.drop(labels='Actions', axis=1, inplace=True)"
   ]
  },
  {
   "cell_type": "code",
   "execution_count": 4,
   "metadata": {
    "ExecuteTime": {
     "end_time": "2021-03-01T02:44:31.813508Z",
     "start_time": "2021-03-01T02:44:28.348141Z"
    }
   },
   "outputs": [
    {
     "ename": "OSError",
     "evalue": "/home/student.unimelb.edu.au/shorte1/Documents/ACF_consulting/files/folder_count.txt not found.",
     "output_type": "error",
     "traceback": [
      "\u001b[0;31m---------------------------------------------------------------------------\u001b[0m",
      "\u001b[0;31mOSError\u001b[0m                                   Traceback (most recent call last)",
      "\u001b[0;32m<ipython-input-4-2c8f3fb0f2dc>\u001b[0m in \u001b[0;36m<module>\u001b[0;34m\u001b[0m\n\u001b[1;32m     54\u001b[0m     \u001b[0mshell_cmd\u001b[0m \u001b[0;34m+=\u001b[0m \u001b[0;34m'-type d > '\u001b[0m \u001b[0;34m+\u001b[0m \u001b[0mbase_dir\u001b[0m \u001b[0;34m+\u001b[0m \u001b[0;34m'folder_count.txt'\u001b[0m\u001b[0;34m\u001b[0m\u001b[0;34m\u001b[0m\u001b[0m\n\u001b[1;32m     55\u001b[0m     \u001b[0msubprocess\u001b[0m\u001b[0;34m.\u001b[0m\u001b[0mrun\u001b[0m\u001b[0;34m(\u001b[0m\u001b[0mshell_cmd\u001b[0m\u001b[0;34m,\u001b[0m \u001b[0mshell\u001b[0m\u001b[0;34m=\u001b[0m\u001b[0;32mTrue\u001b[0m\u001b[0;34m)\u001b[0m\u001b[0;34m\u001b[0m\u001b[0;34m\u001b[0m\u001b[0m\n\u001b[0;32m---> 56\u001b[0;31m     \u001b[0mfolder_count\u001b[0m \u001b[0;34m=\u001b[0m \u001b[0mint\u001b[0m\u001b[0;34m(\u001b[0m\u001b[0mnp\u001b[0m\u001b[0;34m.\u001b[0m\u001b[0mloadtxt\u001b[0m\u001b[0;34m(\u001b[0m\u001b[0mbase_dir\u001b[0m \u001b[0;34m+\u001b[0m \u001b[0;34m'/folder_count.txt'\u001b[0m\u001b[0;34m)\u001b[0m\u001b[0;34m)\u001b[0m\u001b[0;34m\u001b[0m\u001b[0;34m\u001b[0m\u001b[0m\n\u001b[0m\u001b[1;32m     57\u001b[0m \u001b[0;34m\u001b[0m\u001b[0m\n\u001b[1;32m     58\u001b[0m     \u001b[0;32mif\u001b[0m \u001b[0mfolder_count\u001b[0m \u001b[0;34m==\u001b[0m \u001b[0;36m0\u001b[0m\u001b[0;34m:\u001b[0m\u001b[0;34m\u001b[0m\u001b[0;34m\u001b[0m\u001b[0m\n",
      "\u001b[0;32m~/anaconda3/lib/python3.6/site-packages/numpy/lib/npyio.py\u001b[0m in \u001b[0;36mloadtxt\u001b[0;34m(fname, dtype, comments, delimiter, converters, skiprows, usecols, unpack, ndmin, encoding, max_rows)\u001b[0m\n\u001b[1;32m    960\u001b[0m             \u001b[0mfname\u001b[0m \u001b[0;34m=\u001b[0m \u001b[0mos_fspath\u001b[0m\u001b[0;34m(\u001b[0m\u001b[0mfname\u001b[0m\u001b[0;34m)\u001b[0m\u001b[0;34m\u001b[0m\u001b[0;34m\u001b[0m\u001b[0m\n\u001b[1;32m    961\u001b[0m         \u001b[0;32mif\u001b[0m \u001b[0m_is_string_like\u001b[0m\u001b[0;34m(\u001b[0m\u001b[0mfname\u001b[0m\u001b[0;34m)\u001b[0m\u001b[0;34m:\u001b[0m\u001b[0;34m\u001b[0m\u001b[0;34m\u001b[0m\u001b[0m\n\u001b[0;32m--> 962\u001b[0;31m             \u001b[0mfh\u001b[0m \u001b[0;34m=\u001b[0m \u001b[0mnp\u001b[0m\u001b[0;34m.\u001b[0m\u001b[0mlib\u001b[0m\u001b[0;34m.\u001b[0m\u001b[0m_datasource\u001b[0m\u001b[0;34m.\u001b[0m\u001b[0mopen\u001b[0m\u001b[0;34m(\u001b[0m\u001b[0mfname\u001b[0m\u001b[0;34m,\u001b[0m \u001b[0;34m'rt'\u001b[0m\u001b[0;34m,\u001b[0m \u001b[0mencoding\u001b[0m\u001b[0;34m=\u001b[0m\u001b[0mencoding\u001b[0m\u001b[0;34m)\u001b[0m\u001b[0;34m\u001b[0m\u001b[0;34m\u001b[0m\u001b[0m\n\u001b[0m\u001b[1;32m    963\u001b[0m             \u001b[0mfencoding\u001b[0m \u001b[0;34m=\u001b[0m \u001b[0mgetattr\u001b[0m\u001b[0;34m(\u001b[0m\u001b[0mfh\u001b[0m\u001b[0;34m,\u001b[0m \u001b[0;34m'encoding'\u001b[0m\u001b[0;34m,\u001b[0m \u001b[0;34m'latin1'\u001b[0m\u001b[0;34m)\u001b[0m\u001b[0;34m\u001b[0m\u001b[0;34m\u001b[0m\u001b[0m\n\u001b[1;32m    964\u001b[0m             \u001b[0mfh\u001b[0m \u001b[0;34m=\u001b[0m \u001b[0miter\u001b[0m\u001b[0;34m(\u001b[0m\u001b[0mfh\u001b[0m\u001b[0;34m)\u001b[0m\u001b[0;34m\u001b[0m\u001b[0;34m\u001b[0m\u001b[0m\n",
      "\u001b[0;32m~/anaconda3/lib/python3.6/site-packages/numpy/lib/_datasource.py\u001b[0m in \u001b[0;36mopen\u001b[0;34m(path, mode, destpath, encoding, newline)\u001b[0m\n\u001b[1;32m    264\u001b[0m \u001b[0;34m\u001b[0m\u001b[0m\n\u001b[1;32m    265\u001b[0m     \u001b[0mds\u001b[0m \u001b[0;34m=\u001b[0m \u001b[0mDataSource\u001b[0m\u001b[0;34m(\u001b[0m\u001b[0mdestpath\u001b[0m\u001b[0;34m)\u001b[0m\u001b[0;34m\u001b[0m\u001b[0;34m\u001b[0m\u001b[0m\n\u001b[0;32m--> 266\u001b[0;31m     \u001b[0;32mreturn\u001b[0m \u001b[0mds\u001b[0m\u001b[0;34m.\u001b[0m\u001b[0mopen\u001b[0m\u001b[0;34m(\u001b[0m\u001b[0mpath\u001b[0m\u001b[0;34m,\u001b[0m \u001b[0mmode\u001b[0m\u001b[0;34m,\u001b[0m \u001b[0mencoding\u001b[0m\u001b[0;34m=\u001b[0m\u001b[0mencoding\u001b[0m\u001b[0;34m,\u001b[0m \u001b[0mnewline\u001b[0m\u001b[0;34m=\u001b[0m\u001b[0mnewline\u001b[0m\u001b[0;34m)\u001b[0m\u001b[0;34m\u001b[0m\u001b[0;34m\u001b[0m\u001b[0m\n\u001b[0m\u001b[1;32m    267\u001b[0m \u001b[0;34m\u001b[0m\u001b[0m\n\u001b[1;32m    268\u001b[0m \u001b[0;34m\u001b[0m\u001b[0m\n",
      "\u001b[0;32m~/anaconda3/lib/python3.6/site-packages/numpy/lib/_datasource.py\u001b[0m in \u001b[0;36mopen\u001b[0;34m(self, path, mode, encoding, newline)\u001b[0m\n\u001b[1;32m    622\u001b[0m                                       encoding=encoding, newline=newline)\n\u001b[1;32m    623\u001b[0m         \u001b[0;32melse\u001b[0m\u001b[0;34m:\u001b[0m\u001b[0;34m\u001b[0m\u001b[0;34m\u001b[0m\u001b[0m\n\u001b[0;32m--> 624\u001b[0;31m             \u001b[0;32mraise\u001b[0m \u001b[0mIOError\u001b[0m\u001b[0;34m(\u001b[0m\u001b[0;34m\"%s not found.\"\u001b[0m \u001b[0;34m%\u001b[0m \u001b[0mpath\u001b[0m\u001b[0;34m)\u001b[0m\u001b[0;34m\u001b[0m\u001b[0;34m\u001b[0m\u001b[0m\n\u001b[0m\u001b[1;32m    625\u001b[0m \u001b[0;34m\u001b[0m\u001b[0m\n\u001b[1;32m    626\u001b[0m \u001b[0;34m\u001b[0m\u001b[0m\n",
      "\u001b[0;31mOSError\u001b[0m: /home/student.unimelb.edu.au/shorte1/Documents/ACF_consulting/files/folder_count.txt not found."
     ]
    }
   ],
   "source": [
    "xpath = '//a[@class=\"btn btn-default btn-xs\" '\n",
    "xpath += 'and @href=\"#\" and @data-toggle=\"dropdown\"]'\n",
    "details_buttons = driver.find_elements_by_xpath(xpath)\n",
    "\n",
    "xpath = '//a[@class=\"details-link launch-modal\" '\n",
    "xpath += 'and @href=\"#\" and @title=\"View Details\"]'\n",
    "details_links = driver.find_elements_by_xpath(xpath)\n",
    "\n",
    "# These will record the number of files and filenames for each submission\n",
    "num_files = []\n",
    "file_names = []\n",
    "\n",
    "# Iterate over the 30 entries in the table on current page checking for files\n",
    "for i in range(5):\n",
    "    details_buttons[i].click()\n",
    "    time.sleep(1)\n",
    "    details_links[i].click()\n",
    "    time.sleep(2)\n",
    "    \n",
    "    iframe = driver.find_elements_by_xpath(\n",
    "        '//section[@class=\"modal fade modal-form modal-form-details in\"]'\n",
    "        + '/div/div/div/iframe'\n",
    "    )\n",
    "    driver.switch_to.frame(iframe[0])\n",
    "\n",
    "    file_links = driver.find_elements_by_xpath(\n",
    "        \"//a[contains(@href, '/_entity/annotation/')]\"\n",
    "    )\n",
    "    \n",
    "    subprocess.run('rm ' + base_dir +'/*.pdf', shell=True)\n",
    "    ref_num = table['Reference Number'].iloc[i].replace('/','')\n",
    "    date = table['Date of notice'].iloc[i]\n",
    "    date = re.sub(r'(^\\d\\/)',r'0\\1',date)\n",
    "    date = date.replace('/','')\n",
    "    ref_num += '_' + date\n",
    "        \n",
    "    # If no files, skip this entry    \n",
    "    if not file_links:\n",
    "        num_files.append(0)\n",
    "        file_names.append('')\n",
    "        \n",
    "        driver.switch_to.default_content()\n",
    "        xpath = '//section[@class=\"modal fade modal-form '\n",
    "        xpath += 'modal-form-details in\"]/div/div/div/button'\n",
    "        close_button = driver.find_elements_by_xpath(xpath)\n",
    "        close_button[0].click()\n",
    "        time.sleep(1)\n",
    "        continue\n",
    "        \n",
    "    num_files.append(len(file_links))\n",
    "        \n",
    "    # Check if folder name already exists, if so append count\n",
    "    shell_cmd = 'find ' + base_dir + '/*' + ref_num + '* -maxdepth 1 '\n",
    "    shell_cmd += '-type d > ' + base_dir + '/folder_count.txt'\n",
    "    subprocess.run(shell_cmd, shell=True)\n",
    "    folder_count = int(np.loadtxt(base_dir + '/folder_count.txt'))\n",
    "\n",
    "    if folder_count == 0:\n",
    "        folder_path = base_dir + '/' + ref_num\n",
    "    else:\n",
    "        if folder_count == 1:\n",
    "            shell_cmd = 'mv ' + base_dir + \"/\" + ref_num + ' '\n",
    "            shell_cmd += base_dir + \"/*\" + ref_num + '_1'\n",
    "            subprocess.run(shell_cmd, shell=True)\n",
    "        folder_path = base_dir + '/' + ref_num + '_' + str(folder_count+1)\n",
    "\n",
    "    for j in range(len(file_links)):\n",
    "        file_links[j].click()\n",
    "        time.sleep(0.5)\n",
    "\n",
    "    # Wait for files to download\n",
    "    file_count = 0\n",
    "    iterations = 0\n",
    "    while file_count < len(file_links):\n",
    "        if iterations > 1800:\n",
    "            raise RuntimeError('Download timed out.')\n",
    "        time.sleep(.5)\n",
    "        shell_cmd = 'find ' + base_dir + '/*.pdf '\n",
    "        shell_cmd += '-type f -print | wc -l > ' \n",
    "        shell_cmd += base_dir + '/num_files.txt'\n",
    "        subprocess.run(shell_cmd, shell=True)\n",
    "        file_count = int(np.loadtxt(base_dir + '/num_files.txt'))\n",
    "        iterations += 1\n",
    "    subprocess.run('rm ' + base_dir + '/num_files.txt', shell=True)\n",
    "    time.sleep(1)\n",
    "\n",
    "    # After files downloaded, move them to appropriate folder\n",
    "    subprocess.run(['rm', '-r', folder_path])\n",
    "    subprocess.run(['mkdir', folder_path])\n",
    "    shell_cmd = 'mv ' + base_dir + '/*.pdf ' + folder_path \n",
    "    subprocess.run(shell_cmd, shell=True)\n",
    "\n",
    "    # Record the filenames\n",
    "    shell_cmd = 'find ' + folder_path + '/*.pdf -maxdepth 1 -type f '\n",
    "    shell_cmd += '-printf \"%f\\n\" > ' + folder_path + '/file_names.txt'\n",
    "    subprocess.run(shell_cmd, shell=True)\n",
    "    with open(folder_path + '/file_names.txt') as f:\n",
    "        lines = f.readlines()\n",
    "    file_names.append(', '.join(lines).replace('\\n',''))\n",
    "    subprocess.run('rm ' + folder_path + '/file_names.txt', shell=True)\n",
    "\n",
    "    # Create merged pdf\n",
    "    if len(file_links) > 1:\n",
    "        shell_cmd = 'pdfunite ' + folder_path + '/*.pdf ' + folder_path \n",
    "        shell_cmd += '/' + folder_name + '_combined.pdf'\n",
    "        subprocess.run(shell_cmd, shell=True)\n",
    "\n",
    "    driver.switch_to.default_content()\n",
    "    xpath = '//section[@class=\"modal fade modal-form '\n",
    "    xpath += 'modal-form-details in\"]/div/div/div/button'\n",
    "    close_button = driver.find_elements_by_xpath(xpath)\n",
    "    close_button[0].click()\n",
    "    time.sleep(1)"
   ]
  },
  {
   "cell_type": "code",
   "execution_count": null,
   "metadata": {
    "ExecuteTime": {
     "end_time": "2021-02-27T03:19:17.439331Z",
     "start_time": "2021-02-27T03:18:59.173400Z"
    }
   },
   "outputs": [],
   "source": [
    "for i in range(2,3):\n",
    "\n",
    "    next_button = driver.find_elements_by_xpath(\n",
    "        '//a[@href=\"#\" and @data-page=\"' + str(i) + '\"]'\n",
    "    )[1]\n",
    "    next_button.click()\n",
    "    time.sleep(10+np.random.rand()*10-5)\n",
    "    page_source = driver.page_source\n",
    "    new_soup = BeautifulSoup(page_source)\n",
    "    new_table = pd.read_html(new_soup.prettify())[0]\n",
    "    new_table = clean_columns(new_table)\n",
    "    table = table.append(new_table, ignore_index=True)\n",
    "\n",
    "driver.quit()"
   ]
  }
 ],
 "metadata": {
  "kernelspec": {
   "display_name": "Python 3",
   "language": "python",
   "name": "python3"
  },
  "language_info": {
   "codemirror_mode": {
    "name": "ipython",
    "version": 3
   },
   "file_extension": ".py",
   "mimetype": "text/x-python",
   "name": "python",
   "nbconvert_exporter": "python",
   "pygments_lexer": "ipython3",
   "version": "3.6.8"
  },
  "toc": {
   "base_numbering": 1,
   "nav_menu": {},
   "number_sections": true,
   "sideBar": true,
   "skip_h1_title": false,
   "title_cell": "Table of Contents",
   "title_sidebar": "Contents",
   "toc_cell": false,
   "toc_position": {},
   "toc_section_display": true,
   "toc_window_display": false
  }
 },
 "nbformat": 4,
 "nbformat_minor": 2
}
