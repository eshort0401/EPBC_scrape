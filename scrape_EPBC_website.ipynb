{
 "cells": [
  {
   "cell_type": "markdown",
   "metadata": {},
   "source": [
    "# Import"
   ]
  },
  {
   "cell_type": "markdown",
   "metadata": {},
   "source": [
    "First, import the Python modules necessary for this notebook to run. These can be installed using, for instance, `pip` or `conda`. "
   ]
  },
  {
   "cell_type": "code",
   "execution_count": 1,
   "metadata": {
    "ExecuteTime": {
     "end_time": "2021-06-08T23:29:45.101780Z",
     "start_time": "2021-06-08T23:29:44.591055Z"
    }
   },
   "outputs": [],
   "source": [
    "import numpy as np # Handles maths\n",
    "import pandas as pd # Good for tables of data\n",
    "import matplotlib.pyplot as plt # Handles graphing\n",
    "import requests # Downloads webpages\n",
    "from bs4 import BeautifulSoup # For parsing webpages\n",
    "from selenium import webdriver \n",
    "from selenium.webdriver.common.action_chains import ActionChains\n",
    "import os, sys\n",
    "import time\n",
    "import subprocess\n",
    "import re\n",
    "import string\n",
    "\n",
    "import scrape_EPBC\n",
    "%load_ext autoreload\n",
    "%autoreload 2"
   ]
  },
  {
   "cell_type": "markdown",
   "metadata": {},
   "source": [
    "# Initialise"
   ]
  },
  {
   "cell_type": "code",
   "execution_count": 2,
   "metadata": {
    "ExecuteTime": {
     "end_time": "2021-06-08T12:10:24.221457Z",
     "start_time": "2021-06-08T12:10:24.190674Z"
    }
   },
   "outputs": [],
   "source": [
    "# stored_table = pd.read_csv('/home/student.unimelb.edu.au/shorte1/Documents/ACF_consulting/EPBC_notices_test.csv')\n",
    "# stored_table[stored_table['Reference Number'] == '2019/8527']\n",
    "# stored_table = stored_table.drop(1539, axis=0).reset_index(drop=True)\n",
    "# stored_table.to_csv('/home/student.unimelb.edu.au/shorte1/Documents/ACF_consulting/EPBC_notices_test.csv', index=False, header=True)"
   ]
  },
  {
   "cell_type": "code",
   "execution_count": 3,
   "metadata": {
    "ExecuteTime": {
     "end_time": "2021-06-08T12:10:24.644129Z",
     "start_time": "2021-06-08T12:10:24.621744Z"
    }
   },
   "outputs": [],
   "source": [
    "url = \"http://epbcnotices.environment.gov.au/publicnoticesreferrals\""
   ]
  },
  {
   "cell_type": "code",
   "execution_count": 4,
   "metadata": {
    "ExecuteTime": {
     "end_time": "2021-06-08T12:10:32.010752Z",
     "start_time": "2021-06-08T12:10:25.368655Z"
    }
   },
   "outputs": [],
   "source": [
    "options = webdriver.ChromeOptions()\n",
    "# options.add_argument('--headless') # Comment out to see the actions on website\n",
    "options.add_argument('--disable-gpu')\n",
    "options.add_argument('--no-sandbox')\n",
    "options.add_argument('--ignore-certificate-errors')\n",
    "options.add_argument('--incognito')\n",
    "options.add_argument(\"--start-maximized\")\n",
    "\n",
    "base_dir = '/home/student.unimelb.edu.au/shorte1/Documents/ACF_consulting/' \n",
    "sub_dir = 'files_test'\n",
    "files_dir = base_dir + sub_dir \n",
    "\n",
    "options.add_experimental_option(\"prefs\", {\n",
    "  \"download.default_directory\": files_dir,\n",
    "  \"download.prompt_for_download\": False,\n",
    "  \"download.directory_upgrade\": True,\n",
    "  \"safebrowsing.enabled\": True,\n",
    "  \"plugins.always_open_pdf_externally\": True\n",
    "})\n",
    "\n",
    "driver = webdriver.Chrome('/usr/bin/chromedriver', options=options)\n",
    "driver.get(url);\n",
    "time.sleep(4)\n",
    "\n",
    "def clean_columns(table):\n",
    "    name_dict = {}\n",
    "    clean_str = '  . Activate to sort in descending order'\n",
    "    for col in range(len(table.columns)): \n",
    "        name_dict[table.columns[col]] = table.columns[col].replace(clean_str, '')\n",
    "    return table.rename(name_dict, axis='columns')"
   ]
  },
  {
   "cell_type": "code",
   "execution_count": 5,
   "metadata": {
    "ExecuteTime": {
     "end_time": "2021-06-08T12:10:32.035743Z",
     "start_time": "2021-06-08T12:10:32.012768Z"
    }
   },
   "outputs": [
    {
     "name": "stdout",
     "output_type": "stream",
     "text": [
      "Automatic pdb calling has been turned ON\n"
     ]
    }
   ],
   "source": [
    "%pdb"
   ]
  },
  {
   "cell_type": "markdown",
   "metadata": {},
   "source": [
    "# Scrape Website"
   ]
  },
  {
   "cell_type": "code",
   "execution_count": null,
   "metadata": {
    "ExecuteTime": {
     "start_time": "2021-06-08T12:10:29.358Z"
    }
   },
   "outputs": [
    {
     "name": "stdout",
     "output_type": "stream",
     "text": [
      "Still Downloading. Please Wait.\n",
      "Still Downloading. Please Wait.\n",
      "Still Downloading. Please Wait.\n",
      "Still Downloading. Please Wait.\n",
      "Still Downloading. Please Wait.\n",
      "Still Downloading. Please Wait.\n",
      "Still Downloading. Please Wait.\n",
      "Still Downloading. Please Wait.\n",
      "Still Downloading. Please Wait.\n",
      "Still Downloading. Please Wait.\n",
      "Still Downloading. Please Wait.\n",
      "Still Downloading. Please Wait.\n",
      "Still Downloading. Please Wait.\n",
      "Still Downloading. Please Wait.\n",
      "Still Downloading. Please Wait.\n",
      "Still Downloading. Please Wait.\n",
      "Still Downloading. Please Wait.\n",
      "Still Downloading. Please Wait.\n",
      "Still Downloading. Please Wait.\n",
      "Still Downloading. Please Wait.\n",
      "Still Downloading. Please Wait.\n",
      "Still Downloading. Please Wait.\n",
      "Still Downloading. Please Wait.\n",
      "Still Downloading. Please Wait.\n",
      "Still Downloading. Please Wait.\n",
      "Still Downloading. Please Wait.\n",
      "Still Downloading. Please Wait.\n",
      "Still Downloading. Please Wait.\n",
      "Still Downloading. Please Wait.\n",
      "Still Downloading. Please Wait.\n",
      "Still Downloading. Please Wait.\n",
      "Still Downloading. Please Wait.\n",
      "Still Downloading. Please Wait.\n",
      "Still Downloading. Please Wait.\n",
      "Still Downloading. Please Wait.\n",
      "Still Downloading. Please Wait.\n",
      "Still Downloading. Please Wait.\n",
      "Still Downloading. Please Wait.\n",
      "Still Downloading. Please Wait.\n",
      "Still Downloading. Please Wait.\n",
      "Still Downloading. Please Wait.\n",
      "Still Downloading. Please Wait.\n",
      "Still Downloading. Please Wait.\n",
      "Still Downloading. Please Wait.\n",
      "Still Downloading. Please Wait.\n",
      "Still Downloading. Please Wait.\n",
      "Still Downloading. Please Wait.\n",
      "Still Downloading. Please Wait.\n",
      "Still Downloading. Please Wait.\n",
      "Still Downloading. Please Wait.\n",
      "Still Downloading. Please Wait.\n",
      "Still Downloading. Please Wait.\n",
      "Still Downloading. Please Wait.\n"
     ]
    }
   ],
   "source": [
    "for i in range(1,50):\n",
    "    \n",
    "    loading = True\n",
    "    attempts = 0\n",
    "    while loading:\n",
    "        if attempts > 30:\n",
    "            raise RuntimeError('Could not load website')\n",
    "        try:\n",
    "            time.sleep(2)\n",
    "            page_source = driver.page_source\n",
    "            soup = BeautifulSoup(page_source)\n",
    "            table = pd.read_html(soup.prettify())[0]\n",
    "            if len(table) == 30:\n",
    "                loading = False\n",
    "        except:\n",
    "            attempts += 1\n",
    "\n",
    "    table = clean_columns(table)\n",
    "    table['PDF Attachments'] = ['TBD']*30\n",
    "    table['Non PDF Attachments'] = ['TBD']*30\n",
    "    table['Download'] = ['TBD']*30\n",
    "    table['Download Folder'] = ['TBD']*30\n",
    "    table['PDFs Combined'] = ['TBD']*30\n",
    "    \n",
    "    table['Date of notice'] = pd.to_datetime(\n",
    "        table['Date of notice'], dayfirst=True)\n",
    "    table.drop(labels='Actions', axis=1, inplace=True) \n",
    "    \n",
    "    try:\n",
    "        stored_table = pd.read_csv(base_dir + '/EPBC_notices_test.csv')\n",
    "        stored_table['Date of notice'] = pd.to_datetime(\n",
    "            stored_table['Date of notice'], dayfirst=True)\n",
    "        label_list = [\n",
    "            'PDF Attachments', 'Non PDF Attachments', \n",
    "            'Download', 'Download Folder', 'PDFs Combined']\n",
    "        shared = pd.merge(\n",
    "            table.drop(labels=label_list, axis=1), \n",
    "            stored_table.drop(labels=label_list, axis=1), \n",
    "            how='left', indicator='Exist')\n",
    "        shared['Exist'] = np.where(shared.Exist == 'both', True, False)\n",
    "        exist = shared['Exist']\n",
    "        del shared\n",
    "    except:\n",
    "        stored_table = table.iloc[0:0]\n",
    "        stored_table['Date of notice'] = pd.to_datetime(\n",
    "            stored_table['Date of notice'], dayfirst=True)\n",
    "        exist = [False]*30\n",
    "        exist = pd.Series(exist, name='Exist')\n",
    "     \n",
    "    if np.any(~exist):\n",
    "        scrape_EPBC.scrape_page(\n",
    "            driver, i, table, stored_table, exist, base_dir, files_dir)\n",
    "    \n",
    "    try:\n",
    "        next_button = driver.find_elements_by_xpath(\n",
    "            '//a[@href=\"#\" and @data-page=\"' + str(i+1) + '\"]'\n",
    "        )[1]\n",
    "        ActionChains(driver).move_to_element(next_button).perform()\n",
    "        next_button.click()\n",
    "    except:\n",
    "        print('Quitting.')\n",
    "    \n",
    "    del table, stored_table\n",
    "    \n",
    "driver.quit()"
   ]
  },
  {
   "cell_type": "code",
   "execution_count": 2,
   "metadata": {
    "ExecuteTime": {
     "end_time": "2021-06-08T23:29:50.242753Z",
     "start_time": "2021-06-08T23:29:50.223706Z"
    }
   },
   "outputs": [],
   "source": [
    "stored_table = pd.read_csv('/home/student.unimelb.edu.au/shorte1/Documents/ACF_consulting/EPBC_notices_test.csv')"
   ]
  },
  {
   "cell_type": "code",
   "execution_count": 6,
   "metadata": {
    "ExecuteTime": {
     "end_time": "2021-06-08T23:35:09.417885Z",
     "start_time": "2021-06-08T23:35:09.390171Z"
    }
   },
   "outputs": [
    {
     "data": {
      "text/html": [
       "<div>\n",
       "<style scoped>\n",
       "    .dataframe tbody tr th:only-of-type {\n",
       "        vertical-align: middle;\n",
       "    }\n",
       "\n",
       "    .dataframe tbody tr th {\n",
       "        vertical-align: top;\n",
       "    }\n",
       "\n",
       "    .dataframe thead th {\n",
       "        text-align: right;\n",
       "    }\n",
       "</style>\n",
       "<table border=\"1\" class=\"dataframe\">\n",
       "  <thead>\n",
       "    <tr style=\"text-align: right;\">\n",
       "      <th></th>\n",
       "      <th>Reference Number</th>\n",
       "      <th>Title of referral</th>\n",
       "      <th>Notification from EPBC Act</th>\n",
       "      <th>Date of notice</th>\n",
       "      <th>PDF Attachments</th>\n",
       "      <th>Non PDF Attachments</th>\n",
       "      <th>Download</th>\n",
       "      <th>Download Folder</th>\n",
       "      <th>PDFs Combined</th>\n",
       "    </tr>\n",
       "  </thead>\n",
       "  <tbody>\n",
       "  </tbody>\n",
       "</table>\n",
       "</div>"
      ],
      "text/plain": [
       "Empty DataFrame\n",
       "Columns: [Reference Number, Title of referral, Notification from EPBC Act, Date of notice, PDF Attachments, Non PDF Attachments, Download, Download Folder, PDFs Combined]\n",
       "Index: []"
      ]
     },
     "execution_count": 6,
     "metadata": {},
     "output_type": "execute_result"
    }
   ],
   "source": [
    "stored_table.loc[stored_table['Download'] == 'Fail']"
   ]
  },
  {
   "cell_type": "code",
   "execution_count": 4,
   "metadata": {
    "ExecuteTime": {
     "end_time": "2021-06-08T23:29:58.867376Z",
     "start_time": "2021-06-08T23:29:58.838597Z"
    }
   },
   "outputs": [
    {
     "data": {
      "text/html": [
       "<div>\n",
       "<style scoped>\n",
       "    .dataframe tbody tr th:only-of-type {\n",
       "        vertical-align: middle;\n",
       "    }\n",
       "\n",
       "    .dataframe tbody tr th {\n",
       "        vertical-align: top;\n",
       "    }\n",
       "\n",
       "    .dataframe thead th {\n",
       "        text-align: right;\n",
       "    }\n",
       "</style>\n",
       "<table border=\"1\" class=\"dataframe\">\n",
       "  <thead>\n",
       "    <tr style=\"text-align: right;\">\n",
       "      <th></th>\n",
       "      <th>Reference Number</th>\n",
       "      <th>Title of referral</th>\n",
       "      <th>Notification from EPBC Act</th>\n",
       "      <th>Date of notice</th>\n",
       "      <th>PDF Attachments</th>\n",
       "      <th>Non PDF Attachments</th>\n",
       "      <th>Download</th>\n",
       "      <th>Download Folder</th>\n",
       "      <th>PDFs Combined</th>\n",
       "    </tr>\n",
       "  </thead>\n",
       "  <tbody>\n",
       "    <tr>\n",
       "      <th>0</th>\n",
       "      <td>2021/8963</td>\n",
       "      <td>Western Region Water Corporation/Water Managem...</td>\n",
       "      <td>Invitation for Public Comment on Referral</td>\n",
       "      <td>07/06/2021</td>\n",
       "      <td>Yes</td>\n",
       "      <td>No</td>\n",
       "      <td>Success</td>\n",
       "      <td>20218963_07062021_western_region_water_corpora...</td>\n",
       "      <td>Yes</td>\n",
       "    </tr>\n",
       "    <tr>\n",
       "      <th>1</th>\n",
       "      <td>2021/8966</td>\n",
       "      <td>VIC Offshore Windfarm Pty Ltd/Energy Generatio...</td>\n",
       "      <td>Invitation for Public Comment on Referral</td>\n",
       "      <td>07/06/2021</td>\n",
       "      <td>Yes</td>\n",
       "      <td>No</td>\n",
       "      <td>Success</td>\n",
       "      <td>20218966_07062021_vic_offshore_windfarm_pty_lt...</td>\n",
       "      <td>Yes</td>\n",
       "    </tr>\n",
       "    <tr>\n",
       "      <th>2</th>\n",
       "      <td>2021/8969</td>\n",
       "      <td>Byron Shire Council/Waste Management (sewerage...</td>\n",
       "      <td>Invitation for Public Comment on Referral</td>\n",
       "      <td>07/06/2021</td>\n",
       "      <td>Yes</td>\n",
       "      <td>No</td>\n",
       "      <td>Success</td>\n",
       "      <td>20218969_07062021_byron_shire_council_invitati...</td>\n",
       "      <td>Yes</td>\n",
       "    </tr>\n",
       "    <tr>\n",
       "      <th>3</th>\n",
       "      <td>2021/8909</td>\n",
       "      <td>MMG Australia Limited/Mining/1km west of Roseb...</td>\n",
       "      <td>Suspension of Referral Decision Timeframe Period</td>\n",
       "      <td>04/06/2021</td>\n",
       "      <td>Yes</td>\n",
       "      <td>No</td>\n",
       "      <td>Success</td>\n",
       "      <td>20218909_04062021_mmg_australia_limited_suspen...</td>\n",
       "      <td>Yes</td>\n",
       "    </tr>\n",
       "    <tr>\n",
       "      <th>4</th>\n",
       "      <td>2018/8286</td>\n",
       "      <td>Transport for NSW/Transport - Land/M7 Motorway...</td>\n",
       "      <td>Decision on approval of action: Approved with ...</td>\n",
       "      <td>03/06/2021</td>\n",
       "      <td>Yes</td>\n",
       "      <td>No</td>\n",
       "      <td>Success</td>\n",
       "      <td>20188286_03062021_transport_for_nsw_decision_o...</td>\n",
       "      <td>Yes</td>\n",
       "    </tr>\n",
       "    <tr>\n",
       "      <th>...</th>\n",
       "      <td>...</td>\n",
       "      <td>...</td>\n",
       "      <td>...</td>\n",
       "      <td>...</td>\n",
       "      <td>...</td>\n",
       "      <td>...</td>\n",
       "      <td>...</td>\n",
       "      <td>...</td>\n",
       "      <td>...</td>\n",
       "    </tr>\n",
       "    <tr>\n",
       "      <th>145</th>\n",
       "      <td>2021/8895</td>\n",
       "      <td>Fraser Coast Regional Council/Waste Management...</td>\n",
       "      <td>Decision on Assessment Approach: Preliminary D...</td>\n",
       "      <td>19/04/2021</td>\n",
       "      <td>Yes</td>\n",
       "      <td>No</td>\n",
       "      <td>Success</td>\n",
       "      <td>20218895_19042021_fraser_coast_regional_counci...</td>\n",
       "      <td>Yes</td>\n",
       "    </tr>\n",
       "    <tr>\n",
       "      <th>146</th>\n",
       "      <td>2011/6179</td>\n",
       "      <td>Australian Zircon NL (AZC) /Mining/Approx 20km...</td>\n",
       "      <td>Notification of Proposal Withdrawn</td>\n",
       "      <td>18/04/2021</td>\n",
       "      <td>No</td>\n",
       "      <td>No</td>\n",
       "      <td>Not Applicable</td>\n",
       "      <td>Not Applicable</td>\n",
       "      <td>Not Applicable</td>\n",
       "    </tr>\n",
       "    <tr>\n",
       "      <th>147</th>\n",
       "      <td>2021/8898</td>\n",
       "      <td>Department of Finance/Commonwealth/1 Kelliher ...</td>\n",
       "      <td>Decision whether action needs approval/Approva...</td>\n",
       "      <td>16/04/2021</td>\n",
       "      <td>Yes</td>\n",
       "      <td>No</td>\n",
       "      <td>Success</td>\n",
       "      <td>20218898_16042021_department_of_finance_decisi...</td>\n",
       "      <td>Yes</td>\n",
       "    </tr>\n",
       "    <tr>\n",
       "      <th>148</th>\n",
       "      <td>2021/8902</td>\n",
       "      <td>Rawling Road Pty Ltd/Commercial Development/So...</td>\n",
       "      <td>Decision whether action needs approval/Approva...</td>\n",
       "      <td>16/04/2021</td>\n",
       "      <td>Yes</td>\n",
       "      <td>No</td>\n",
       "      <td>Success</td>\n",
       "      <td>20218902_16042021_rawling_road_pty_ltd_decisio...</td>\n",
       "      <td>Yes</td>\n",
       "    </tr>\n",
       "    <tr>\n",
       "      <th>149</th>\n",
       "      <td>2019/8541</td>\n",
       "      <td>Sydney Metro Authority/Transport - Air and Spa...</td>\n",
       "      <td>Notification of Publication of Final Prelimina...</td>\n",
       "      <td>16/04/2021</td>\n",
       "      <td>Yes</td>\n",
       "      <td>No</td>\n",
       "      <td>Success</td>\n",
       "      <td>20198541_16042021_sydney_metro_authority_notif...</td>\n",
       "      <td>Yes</td>\n",
       "    </tr>\n",
       "  </tbody>\n",
       "</table>\n",
       "<p>150 rows × 9 columns</p>\n",
       "</div>"
      ],
      "text/plain": [
       "    Reference Number                                  Title of referral  \\\n",
       "0          2021/8963  Western Region Water Corporation/Water Managem...   \n",
       "1          2021/8966  VIC Offshore Windfarm Pty Ltd/Energy Generatio...   \n",
       "2          2021/8969  Byron Shire Council/Waste Management (sewerage...   \n",
       "3          2021/8909  MMG Australia Limited/Mining/1km west of Roseb...   \n",
       "4          2018/8286  Transport for NSW/Transport - Land/M7 Motorway...   \n",
       "..               ...                                                ...   \n",
       "145        2021/8895  Fraser Coast Regional Council/Waste Management...   \n",
       "146        2011/6179  Australian Zircon NL (AZC) /Mining/Approx 20km...   \n",
       "147        2021/8898  Department of Finance/Commonwealth/1 Kelliher ...   \n",
       "148        2021/8902  Rawling Road Pty Ltd/Commercial Development/So...   \n",
       "149        2019/8541  Sydney Metro Authority/Transport - Air and Spa...   \n",
       "\n",
       "                            Notification from EPBC Act Date of notice  \\\n",
       "0            Invitation for Public Comment on Referral     07/06/2021   \n",
       "1            Invitation for Public Comment on Referral     07/06/2021   \n",
       "2            Invitation for Public Comment on Referral     07/06/2021   \n",
       "3     Suspension of Referral Decision Timeframe Period     04/06/2021   \n",
       "4    Decision on approval of action: Approved with ...     03/06/2021   \n",
       "..                                                 ...            ...   \n",
       "145  Decision on Assessment Approach: Preliminary D...     19/04/2021   \n",
       "146                 Notification of Proposal Withdrawn     18/04/2021   \n",
       "147  Decision whether action needs approval/Approva...     16/04/2021   \n",
       "148  Decision whether action needs approval/Approva...     16/04/2021   \n",
       "149  Notification of Publication of Final Prelimina...     16/04/2021   \n",
       "\n",
       "    PDF Attachments Non PDF Attachments        Download  \\\n",
       "0               Yes                  No         Success   \n",
       "1               Yes                  No         Success   \n",
       "2               Yes                  No         Success   \n",
       "3               Yes                  No         Success   \n",
       "4               Yes                  No         Success   \n",
       "..              ...                 ...             ...   \n",
       "145             Yes                  No         Success   \n",
       "146              No                  No  Not Applicable   \n",
       "147             Yes                  No         Success   \n",
       "148             Yes                  No         Success   \n",
       "149             Yes                  No         Success   \n",
       "\n",
       "                                       Download Folder   PDFs Combined  \n",
       "0    20218963_07062021_western_region_water_corpora...             Yes  \n",
       "1    20218966_07062021_vic_offshore_windfarm_pty_lt...             Yes  \n",
       "2    20218969_07062021_byron_shire_council_invitati...             Yes  \n",
       "3    20218909_04062021_mmg_australia_limited_suspen...             Yes  \n",
       "4    20188286_03062021_transport_for_nsw_decision_o...             Yes  \n",
       "..                                                 ...             ...  \n",
       "145  20218895_19042021_fraser_coast_regional_counci...             Yes  \n",
       "146                                     Not Applicable  Not Applicable  \n",
       "147  20218898_16042021_department_of_finance_decisi...             Yes  \n",
       "148  20218902_16042021_rawling_road_pty_ltd_decisio...             Yes  \n",
       "149  20198541_16042021_sydney_metro_authority_notif...             Yes  \n",
       "\n",
       "[150 rows x 9 columns]"
      ]
     },
     "execution_count": 4,
     "metadata": {},
     "output_type": "execute_result"
    }
   ],
   "source": [
    "stored_table"
   ]
  }
 ],
 "metadata": {
  "kernelspec": {
   "display_name": "Python 3",
   "language": "python",
   "name": "python3"
  },
  "language_info": {
   "codemirror_mode": {
    "name": "ipython",
    "version": 3
   },
   "file_extension": ".py",
   "mimetype": "text/x-python",
   "name": "python",
   "nbconvert_exporter": "python",
   "pygments_lexer": "ipython3",
   "version": "3.9.4"
  },
  "toc": {
   "base_numbering": 1,
   "nav_menu": {},
   "number_sections": true,
   "sideBar": true,
   "skip_h1_title": false,
   "title_cell": "Table of Contents",
   "title_sidebar": "Contents",
   "toc_cell": false,
   "toc_position": {
    "height": "calc(100% - 180px)",
    "left": "10px",
    "top": "150px",
    "width": "370.594px"
   },
   "toc_section_display": true,
   "toc_window_display": true
  }
 },
 "nbformat": 4,
 "nbformat_minor": 2
}
