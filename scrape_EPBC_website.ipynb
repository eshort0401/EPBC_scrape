{
 "cells": [
  {
   "cell_type": "code",
   "execution_count": 16,
   "metadata": {
    "ExecuteTime": {
     "end_time": "2021-06-18T03:19:49.114849Z",
     "start_time": "2021-06-18T03:19:49.075870Z"
    }
   },
   "outputs": [
    {
     "name": "stdout",
     "output_type": "stream",
     "text": [
      "The autoreload extension is already loaded. To reload it, use:\n",
      "  %reload_ext autoreload\n",
      "Automatic pdb calling has been turned ON\n"
     ]
    }
   ],
   "source": [
    "%load_ext autoreload\n",
    "%autoreload 2\n",
    "%pdb"
   ]
  },
  {
   "cell_type": "code",
   "execution_count": 18,
   "metadata": {
    "ExecuteTime": {
     "end_time": "2021-06-18T03:32:59.150157Z",
     "start_time": "2021-06-18T03:27:10.273607Z"
    }
   },
   "outputs": [
    {
     "name": "stdout",
     "output_type": "stream",
     "text": [
      "Scraping page 2, row 1.\n",
      "Downloading files. Please Wait.\n",
      "Creating combined PDF file.\n",
      "This may take a few minutes.\n",
      "Scraping page 2, row 2.\n",
      "Downloading files. Please Wait.\n",
      "Creating combined PDF file.\n",
      "This may take a few minutes.\n",
      "Scraping page 2, row 3.\n",
      "Downloading files. Please Wait.\n",
      "Downloading files. Please Wait.\n",
      "Downloading files. Please Wait.\n",
      "Downloading files. Please Wait.\n",
      "Downloading files. Please Wait.\n",
      "Downloading files. Please Wait.\n",
      "Downloading files. Please Wait.\n",
      "Downloading files. Please Wait.\n",
      "Downloading files. Please Wait.\n",
      "Creating combined PDF file.\n",
      "This may take a few minutes.\n",
      "Scraping page 2, row 4.\n",
      "Downloading files. Please Wait.\n",
      "Downloading files. Please Wait.\n",
      "Downloading files. Please Wait.\n",
      "Downloading files. Please Wait.\n",
      "Downloading files. Please Wait.\n",
      "Downloading files. Please Wait.\n",
      "Downloading files. Please Wait.\n",
      "Creating combined PDF file.\n",
      "This may take a few minutes.\n",
      "Scraping page 2, row 5.\n",
      "Downloading files. Please Wait.\n",
      "Downloading files. Please Wait.\n",
      "Creating combined PDF file.\n",
      "This may take a few minutes.\n",
      "Scraping page 2, row 6.\n",
      "Downloading files. Please Wait.\n",
      "Downloading files. Please Wait.\n",
      "Downloading files. Please Wait.\n",
      "Downloading files. Please Wait.\n",
      "Downloading files. Please Wait.\n",
      "Creating combined PDF file.\n",
      "This may take a few minutes.\n",
      "Scraping page 2, row 7.\n",
      "Downloading files. Please Wait.\n",
      "Creating combined PDF file.\n",
      "This may take a few minutes.\n",
      "Scraping page 2, row 8.\n",
      "Scraping page 2, row 9.\n",
      "Downloading files. Please Wait.\n",
      "Creating combined PDF file.\n",
      "This may take a few minutes.\n",
      "Scraping page 2, row 10.\n",
      "Downloading files. Please Wait.\n",
      "Creating combined PDF file.\n",
      "This may take a few minutes.\n",
      "Scraping page 2, row 11.\n",
      "Downloading files. Please Wait.\n",
      "Creating combined PDF file.\n",
      "This may take a few minutes.\n",
      "Scraping page 2, row 12.\n",
      "Downloading files. Please Wait.\n",
      "Creating combined PDF file.\n",
      "This may take a few minutes.\n",
      "Scraping page 2, row 13.\n",
      "Downloading files. Please Wait.\n",
      "Creating combined PDF file.\n",
      "This may take a few minutes.\n",
      "Scraping page 2, row 14.\n",
      "Downloading files. Please Wait.\n",
      "Creating combined PDF file.\n",
      "This may take a few minutes.\n",
      "Scraping page 2, row 15.\n",
      "Scraping page 2, row 16.\n",
      "Downloading files. Please Wait.\n",
      "Creating combined PDF file.\n",
      "This may take a few minutes.\n",
      "Scraping page 2, row 17.\n",
      "Downloading files. Please Wait.\n",
      "Creating combined PDF file.\n",
      "This may take a few minutes.\n",
      "Scraping page 2, row 18.\n",
      "Downloading files. Please Wait.\n",
      "Creating combined PDF file.\n",
      "This may take a few minutes.\n",
      "Scraping page 2, row 19.\n",
      "Downloading files. Please Wait.\n",
      "Downloading files. Please Wait.\n",
      "Creating combined PDF file.\n",
      "This may take a few minutes.\n",
      "Scraping page 2, row 20.\n",
      "Downloading files. Please Wait.\n",
      "Downloading files. Please Wait.\n",
      "Creating combined PDF file.\n",
      "This may take a few minutes.\n",
      "Scraping page 2, row 21.\n",
      "Downloading files. Please Wait.\n",
      "Creating combined PDF file.\n",
      "This may take a few minutes.\n",
      "Scraping page 2, row 22.\n",
      "Downloading files. Please Wait.\n",
      "Creating combined PDF file.\n",
      "This may take a few minutes.\n",
      "Scraping page 2, row 23.\n",
      "Downloading files. Please Wait.\n",
      "Downloading files. Please Wait.\n",
      "Creating combined PDF file.\n",
      "This may take a few minutes.\n",
      "Scraping page 2, row 24.\n",
      "Downloading files. Please Wait.\n",
      "Downloading files. Please Wait.\n",
      "Downloading files. Please Wait.\n",
      "Downloading files. Please Wait.\n",
      "Downloading files. Please Wait.\n",
      "Downloading files. Please Wait.\n",
      "Downloading files. Please Wait.\n",
      "Creating combined PDF file.\n",
      "This may take a few minutes.\n",
      "Scraping page 2, row 25.\n",
      "Downloading files. Please Wait.\n",
      "Downloading files. Please Wait.\n",
      "Downloading files. Please Wait.\n",
      "Downloading files. Please Wait.\n",
      "Downloading files. Please Wait.\n",
      "Downloading files. Please Wait.\n",
      "Downloading files. Please Wait.\n",
      "Downloading files. Please Wait.\n",
      "Downloading files. Please Wait.\n",
      "Downloading files. Please Wait.\n",
      "Downloading files. Please Wait.\n",
      "Downloading files. Please Wait.\n",
      "Downloading files. Please Wait.\n",
      "Downloading files. Please Wait.\n",
      "Creating combined PDF file.\n",
      "This may take a few minutes.\n",
      "Scraping page 2, row 26.\n",
      "Downloading files. Please Wait.\n",
      "Downloading files. Please Wait.\n",
      "Downloading files. Please Wait.\n",
      "Downloading files. Please Wait.\n",
      "Downloading files. Please Wait.\n",
      "Downloading files. Please Wait.\n",
      "Creating combined PDF file.\n",
      "This may take a few minutes.\n",
      "Scraping page 2, row 27.\n",
      "Downloading files. Please Wait.\n",
      "Creating combined PDF file.\n",
      "This may take a few minutes.\n",
      "Scraping page 2, row 28.\n",
      "Downloading files. Please Wait.\n",
      "Downloading files. Please Wait.\n",
      "Creating combined PDF file.\n",
      "This may take a few minutes.\n",
      "Scraping page 2, row 29.\n",
      "Downloading files. Please Wait.\n",
      "Creating combined PDF file.\n",
      "This may take a few minutes.\n",
      "Scraping page 2, row 30.\n",
      "Downloading files. Please Wait.\n",
      "Creating combined PDF file.\n",
      "This may take a few minutes.\n"
     ]
    }
   ],
   "source": [
    "import scrape_EPBC\n",
    "\n",
    "\n",
    "scrape_EPBC.scrape_website(None, end_page=3)"
   ]
  },
  {
   "cell_type": "code",
   "execution_count": null,
   "metadata": {
    "ExecuteTime": {
     "end_time": "2021-06-18T02:08:31.110866Z",
     "start_time": "2021-06-18T02:07:28.407Z"
    }
   },
   "outputs": [],
   "source": [
    "files_dir"
   ]
  }
 ],
 "metadata": {
  "kernelspec": {
   "display_name": "Python 3",
   "language": "python",
   "name": "python3"
  },
  "language_info": {
   "codemirror_mode": {
    "name": "ipython",
    "version": 3
   },
   "file_extension": ".py",
   "mimetype": "text/x-python",
   "name": "python",
   "nbconvert_exporter": "python",
   "pygments_lexer": "ipython3",
   "version": "3.9.4"
  },
  "toc": {
   "base_numbering": 1,
   "nav_menu": {},
   "number_sections": true,
   "sideBar": true,
   "skip_h1_title": false,
   "title_cell": "Table of Contents",
   "title_sidebar": "Contents",
   "toc_cell": false,
   "toc_position": {
    "height": "calc(100% - 180px)",
    "left": "10px",
    "top": "150px",
    "width": "370.594px"
   },
   "toc_section_display": true,
   "toc_window_display": true
  }
 },
 "nbformat": 4,
 "nbformat_minor": 2
}
