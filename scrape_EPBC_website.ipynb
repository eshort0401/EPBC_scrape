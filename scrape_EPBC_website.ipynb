{
 "cells": [
  {
   "cell_type": "markdown",
   "metadata": {},
   "source": [
    "# Import"
   ]
  },
  {
   "cell_type": "markdown",
   "metadata": {},
   "source": [
    "First, import the Python modules necessary for this notebook to run. These can be installed using, for instance, `pip` or `conda`. "
   ]
  },
  {
   "cell_type": "code",
   "execution_count": 1,
   "metadata": {
    "ExecuteTime": {
     "end_time": "2021-06-08T04:41:02.318082Z",
     "start_time": "2021-06-08T04:41:01.835225Z"
    }
   },
   "outputs": [],
   "source": [
    "import numpy as np # Handles maths\n",
    "import pandas as pd # Good for tables of data\n",
    "import matplotlib.pyplot as plt # Handles graphing\n",
    "import requests # Downloads webpages\n",
    "from bs4 import BeautifulSoup # For parsing webpages\n",
    "from selenium import webdriver \n",
    "from selenium.webdriver.common.action_chains import ActionChains\n",
    "import os, sys\n",
    "import time\n",
    "import subprocess\n",
    "import re\n",
    "import string\n",
    "\n",
    "import scrape_EPBC\n",
    "%load_ext autoreload\n",
    "%autoreload 2"
   ]
  },
  {
   "cell_type": "markdown",
   "metadata": {},
   "source": [
    "# Initialise"
   ]
  },
  {
   "cell_type": "code",
   "execution_count": 2,
   "metadata": {
    "ExecuteTime": {
     "end_time": "2021-06-08T04:41:03.230198Z",
     "start_time": "2021-06-08T04:41:03.220108Z"
    }
   },
   "outputs": [],
   "source": [
    "# stored_table = pd.read_csv('/home/student.unimelb.edu.au/shorte1/Documents/ACF_consulting/EPBC_notices_test.csv')\n",
    "# stored_table[stored_table['Reference Number'] == '2019/8527']\n",
    "# stored_table = stored_table.drop(1539, axis=0).reset_index(drop=True)\n",
    "# stored_table.to_csv('/home/student.unimelb.edu.au/shorte1/Documents/ACF_consulting/EPBC_notices_test.csv', index=False, header=True)"
   ]
  },
  {
   "cell_type": "code",
   "execution_count": 3,
   "metadata": {
    "ExecuteTime": {
     "end_time": "2021-06-08T04:41:03.639164Z",
     "start_time": "2021-06-08T04:41:03.617177Z"
    }
   },
   "outputs": [],
   "source": [
    "url = \"http://epbcnotices.environment.gov.au/publicnoticesreferrals\""
   ]
  },
  {
   "cell_type": "code",
   "execution_count": 4,
   "metadata": {
    "ExecuteTime": {
     "end_time": "2021-06-08T04:41:10.916310Z",
     "start_time": "2021-06-08T04:41:04.080348Z"
    }
   },
   "outputs": [],
   "source": [
    "options = webdriver.ChromeOptions()\n",
    "# options.add_argument('--headless') # Comment out to see the actions on website\n",
    "options.add_argument('--disable-gpu')\n",
    "options.add_argument('--no-sandbox')\n",
    "options.add_argument('--ignore-certificate-errors')\n",
    "options.add_argument('--incognito')\n",
    "options.add_argument(\"--start-maximized\")\n",
    "\n",
    "base_dir = '/home/student.unimelb.edu.au/shorte1/Documents/ACF_consulting/' \n",
    "sub_dir = 'files_test'\n",
    "files_dir = base_dir + sub_dir \n",
    "\n",
    "options.add_experimental_option(\"prefs\", {\n",
    "  \"download.default_directory\": files_dir,\n",
    "  \"download.prompt_for_download\": False,\n",
    "  \"download.directory_upgrade\": True,\n",
    "  \"safebrowsing.enabled\": True,\n",
    "  \"plugins.always_open_pdf_externally\": True\n",
    "})\n",
    "\n",
    "driver = webdriver.Chrome('/usr/bin/chromedriver', options=options)\n",
    "driver.get(url);\n",
    "time.sleep(4)\n",
    "\n",
    "def clean_columns(table):\n",
    "    name_dict = {}\n",
    "    clean_str = '  . Activate to sort in descending order'\n",
    "    for col in range(len(table.columns)): \n",
    "        name_dict[table.columns[col]] = table.columns[col].replace(clean_str, '')\n",
    "    return table.rename(name_dict, axis='columns')"
   ]
  },
  {
   "cell_type": "markdown",
   "metadata": {},
   "source": [
    "# Define Page Scraper"
   ]
  },
  {
   "cell_type": "markdown",
   "metadata": {},
   "source": [
    "\n",
    "Two modes - download or update mode.\n",
    "If in download mode, search forward, skipping files that already exist \n",
    "in table.\n",
    "If in update mode, search forward, but assume new entries to website\n",
    "appear first, so stop when a certain number of matches have occured. "
   ]
  },
  {
   "cell_type": "code",
   "execution_count": 5,
   "metadata": {
    "ExecuteTime": {
     "end_time": "2021-06-08T04:41:10.966760Z",
     "start_time": "2021-06-08T04:41:10.923247Z"
    }
   },
   "outputs": [
    {
     "name": "stdout",
     "output_type": "stream",
     "text": [
      "Automatic pdb calling has been turned ON\n"
     ]
    }
   ],
   "source": [
    "%pdb"
   ]
  },
  {
   "cell_type": "markdown",
   "metadata": {},
   "source": [
    "# Scrape Website"
   ]
  },
  {
   "cell_type": "code",
   "execution_count": null,
   "metadata": {
    "ExecuteTime": {
     "start_time": "2021-06-08T04:41:13.284Z"
    }
   },
   "outputs": [
    {
     "name": "stdout",
     "output_type": "stream",
     "text": [
      "Still Downloading. Please Wait.\n",
      "Still Downloading. Please Wait.\n",
      "> \u001b[0;32m/home/student.unimelb.edu.au/shorte1/Documents/ACF_consulting/scrape_EPBC.py\u001b[0m(144)\u001b[0;36mscrape_page\u001b[0;34m()\u001b[0m\n",
      "\u001b[0;32m    142 \u001b[0;31m        \u001b[0;32mif\u001b[0m \u001b[0mlen\u001b[0m\u001b[0;34m(\u001b[0m\u001b[0mfile_links\u001b[0m\u001b[0;34m)\u001b[0m \u001b[0;34m>=\u001b[0m \u001b[0;36m17\u001b[0m\u001b[0;34m:\u001b[0m\u001b[0;34m\u001b[0m\u001b[0;34m\u001b[0m\u001b[0m\n",
      "\u001b[0m\u001b[0;32m    143 \u001b[0;31m            \u001b[0;32mimport\u001b[0m \u001b[0mpdb\u001b[0m\u001b[0;34m;\u001b[0m \u001b[0mpdb\u001b[0m\u001b[0;34m.\u001b[0m\u001b[0mset_trace\u001b[0m\u001b[0;34m(\u001b[0m\u001b[0;34m)\u001b[0m\u001b[0;34m\u001b[0m\u001b[0;34m\u001b[0m\u001b[0m\n",
      "\u001b[0m\u001b[0;32m--> 144 \u001b[0;31m        \u001b[0;34m[\u001b[0m\u001b[0mnum_files\u001b[0m\u001b[0;34m,\u001b[0m \u001b[0mfile_names\u001b[0m\u001b[0;34m]\u001b[0m \u001b[0;34m=\u001b[0m \u001b[0;34m[\u001b[0m\u001b[0;34m[\u001b[0m\u001b[0;34m]\u001b[0m\u001b[0;34m,\u001b[0m \u001b[0;34m[\u001b[0m\u001b[0;34m]\u001b[0m\u001b[0;34m]\u001b[0m\u001b[0;34m\u001b[0m\u001b[0;34m\u001b[0m\u001b[0m\n",
      "\u001b[0m\u001b[0;32m    145 \u001b[0;31m        \u001b[0;32mif\u001b[0m \u001b[0;32mnot\u001b[0m \u001b[0mfile_links\u001b[0m\u001b[0;34m:\u001b[0m\u001b[0;34m\u001b[0m\u001b[0;34m\u001b[0m\u001b[0m\n",
      "\u001b[0m\u001b[0;32m    146 \u001b[0;31m            \u001b[0mnum_files\u001b[0m\u001b[0;34m.\u001b[0m\u001b[0mappend\u001b[0m\u001b[0;34m(\u001b[0m\u001b[0;36m0\u001b[0m\u001b[0;34m)\u001b[0m\u001b[0;34m\u001b[0m\u001b[0;34m\u001b[0m\u001b[0m\n",
      "\u001b[0m\n"
     ]
    }
   ],
   "source": [
    "for i in range(1,4):\n",
    "    \n",
    "    loading = True\n",
    "    attempts = 0\n",
    "    while loading:\n",
    "        if attempts > 30:\n",
    "            raise RuntimeError('Could not load website')\n",
    "        try:\n",
    "            time.sleep(2)\n",
    "            page_source = driver.page_source\n",
    "            soup = BeautifulSoup(page_source)\n",
    "            table = pd.read_html(soup.prettify())[0]\n",
    "            if len(table) == 30:\n",
    "                loading = False\n",
    "        except:\n",
    "            attempts += 1\n",
    "\n",
    "    table = clean_columns(table)\n",
    "    table['Attachments'] = ['TBD']*30\n",
    "    table['Download'] = ['TBD']*30\n",
    "    table['Download Folder'] = ['TBD']*30    \n",
    "    table['Date of notice'] = pd.to_datetime(\n",
    "        table['Date of notice'], dayfirst=True)\n",
    "    table.drop(labels='Actions', axis=1, inplace=True)  \n",
    "    \n",
    "    try:\n",
    "        stored_table = pd.read_csv(base_dir + '/EPBC_notices_test.csv')\n",
    "        stored_table['Date of notice'] = pd.to_datetime(\n",
    "            stored_table['Date of notice'], dayfirst=True)\n",
    "        label_list = ['Attachments', 'Download', 'Download Folder']\n",
    "        shared = pd.merge(\n",
    "            table.drop(labels=label_list, axis=1), \n",
    "            stored_table.drop(labels=label_list, axis=1), \n",
    "            how='left', indicator='Exist')\n",
    "        shared['Exist'] = np.where(shared.Exist == 'both', True, False)\n",
    "        exist = shared['Exist']\n",
    "        del shared\n",
    "    except:\n",
    "        stored_table = table.iloc[0:0]\n",
    "        stored_table['Date of notice'] = pd.to_datetime(\n",
    "            stored_table['Date of notice'], dayfirst=True)\n",
    "        exist = [False]*30\n",
    "        exist = pd.Series(exist,name='Exist')\n",
    "     \n",
    "    if np.any(~exist):\n",
    "        scrape_EPBC.scrape_page(\n",
    "            driver, i, table, stored_table, exist, base_dir, files_dir)\n",
    "    \n",
    "    try:\n",
    "        next_button = driver.find_elements_by_xpath(\n",
    "            '//a[@href=\"#\" and @data-page=\"' + str(i+1) + '\"]'\n",
    "        )[1]\n",
    "        ActionChains(driver).move_to_element(next_button).perform()\n",
    "        next_button.click()\n",
    "    except:\n",
    "        print('Quitting.')\n",
    "    \n",
    "    del table, stored_table\n",
    "    \n",
    "driver.quit()"
   ]
  },
  {
   "cell_type": "code",
   "execution_count": null,
   "metadata": {},
   "outputs": [],
   "source": []
  }
 ],
 "metadata": {
  "kernelspec": {
   "display_name": "Python 3",
   "language": "python",
   "name": "python3"
  },
  "language_info": {
   "codemirror_mode": {
    "name": "ipython",
    "version": 3
   },
   "file_extension": ".py",
   "mimetype": "text/x-python",
   "name": "python",
   "nbconvert_exporter": "python",
   "pygments_lexer": "ipython3",
   "version": "3.9.4"
  },
  "toc": {
   "base_numbering": 1,
   "nav_menu": {},
   "number_sections": true,
   "sideBar": true,
   "skip_h1_title": false,
   "title_cell": "Table of Contents",
   "title_sidebar": "Contents",
   "toc_cell": false,
   "toc_position": {
    "height": "calc(100% - 180px)",
    "left": "10px",
    "top": "150px",
    "width": "370.594px"
   },
   "toc_section_display": true,
   "toc_window_display": true
  }
 },
 "nbformat": 4,
 "nbformat_minor": 2
}
