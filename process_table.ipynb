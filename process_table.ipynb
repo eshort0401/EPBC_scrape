{
 "cells": [
  {
   "cell_type": "code",
   "execution_count": 36,
   "metadata": {
    "ExecuteTime": {
     "end_time": "2021-03-06T02:19:02.160021Z",
     "start_time": "2021-03-06T02:19:02.148601Z"
    }
   },
   "outputs": [],
   "source": [
    "import pandas as pd\n",
    "import numpy as np\n",
    "import re"
   ]
  },
  {
   "cell_type": "code",
   "execution_count": 2,
   "metadata": {
    "ExecuteTime": {
     "end_time": "2021-03-06T01:51:23.596025Z",
     "start_time": "2021-03-06T01:51:23.551142Z"
    }
   },
   "outputs": [],
   "source": [
    "table = pd.read_csv('/home/student.unimelb.edu.au/shorte1/Documents/ACF_consulting/EPBC_notices.csv')"
   ]
  },
  {
   "cell_type": "code",
   "execution_count": 3,
   "metadata": {
    "ExecuteTime": {
     "end_time": "2021-03-06T01:51:24.223499Z",
     "start_time": "2021-03-06T01:51:24.158556Z"
    }
   },
   "outputs": [],
   "source": [
    "table['Approval Holder'] = table['Title of referral'].apply(lambda x: x.split('/')[0])\n",
    "table['Industry'] = table['Title of referral'].apply(lambda x: x.split('/')[1])\n",
    "table['Holder Address'] = table['Title of referral'].apply(lambda x: x.split('/')[2])\n",
    "table['State'] = table['Title of referral'].apply(lambda x: x.split('/')[3])\n",
    "table['Description'] = table['Title of referral'].apply(lambda x: x.split('/')[4])"
   ]
  },
  {
   "cell_type": "code",
   "execution_count": 4,
   "metadata": {
    "ExecuteTime": {
     "end_time": "2021-03-06T01:51:54.572592Z",
     "start_time": "2021-03-06T01:51:34.049312Z"
    }
   },
   "outputs": [],
   "source": [
    "import urllib\n",
    "import json\n",
    "url = 'https://data.gov.au/data/api/3/action/datastore_search?resource_id=eb1e6be4-5b13-4feb-b28e-388bf7c26f93&limit=200000'  \n",
    "fileobj = urllib.request.urlopen(url)\n",
    "ACNC_register = pd.DataFrame(json.loads(fileobj.read())['result']['records'])"
   ]
  },
  {
   "cell_type": "code",
   "execution_count": 112,
   "metadata": {
    "ExecuteTime": {
     "end_time": "2021-03-06T03:15:09.865599Z",
     "start_time": "2021-03-06T03:15:09.855906Z"
    }
   },
   "outputs": [],
   "source": [
    "del ACNC_register"
   ]
  },
  {
   "cell_type": "code",
   "execution_count": 126,
   "metadata": {
    "ExecuteTime": {
     "end_time": "2021-03-06T03:21:19.317665Z",
     "start_time": "2021-03-06T03:20:48.321662Z"
    }
   },
   "outputs": [],
   "source": [
    "url = 'https://data.gov.au/data/api/3/action/datastore_search?resource_id=cb7e4eb5-ed46-4c6c-97a0-4532f4479b7d&limit=300000'\n",
    "fileobj = urllib.request.urlopen(url)\n",
    "ASIC_register = pd.DataFrame(json.loads(fileobj.read())['result']['records'])"
   ]
  },
  {
   "cell_type": "code",
   "execution_count": 144,
   "metadata": {
    "ExecuteTime": {
     "end_time": "2021-03-06T03:49:52.048304Z",
     "start_time": "2021-03-06T03:49:36.453034Z"
    }
   },
   "outputs": [],
   "source": [
    "# ASIC_register = pd.read_csv('/home/student.unimelb.edu.au/shorte1/Documents/ACF_consulting/COMPANY_202103.csv', sep='\\t', encoding = \"ISO-8859-1\", dtype={'Previous State of Registration': str, 'State Registration number': str, 'Modified since last report': str, 'Current Name Indicator': str, 'ABN': str, 'Current Name': str, 'Current Name Start Date': str})\n",
    "ASIC_register = pd.read_csv('/home/student.unimelb.edu.au/shorte1/Documents/ACF_consulting/COMPANY_202103.csv', sep='\\t', encoding = \"ISO-8859-1\", dtype=str)"
   ]
  },
  {
   "cell_type": "code",
   "execution_count": 148,
   "metadata": {
    "ExecuteTime": {
     "end_time": "2021-03-06T03:50:23.034491Z",
     "start_time": "2021-03-06T03:50:23.022975Z"
    }
   },
   "outputs": [
    {
     "data": {
      "text/plain": [
       "0          TGR BIOSCIENCES PTY LTD                       ...\n",
       "1          DELVADO AGENCIES PTY. LTD.                    ...\n",
       "2          ILLUMINATED SOLUTIONS PTY LTD                 ...\n",
       "3          FINTONE AUSTRALIA PTY. LTD.                   ...\n",
       "4          SINGH MARKETING CORPORATION PTY LTD           ...\n",
       "5          LAREDO PTY. LTD.                              ...\n",
       "6          DR CHRIS HARDWICKE PTY. LTD                   ...\n",
       "7          OMEGA DEFENCE & SECURITY EQUIPMENT PTY. LIMITE...\n",
       "8          ROADWAY MUFFLER CENTRE PTY LTD                ...\n",
       "9          ALEXANDER GRAHAM PTY. LTD.                    ...\n",
       "10         ALEXANDER & SYMONDS SPATIAL PTY LTD           ...\n",
       "11         FELLOWS FISH PTY. LTD.                        ...\n",
       "12         MUSCOCOMBE PTY. LTD.                          ...\n",
       "13         HILMAK ENTERPRISES PTY. LTD.                  ...\n",
       "14         MIRACLELAWN PTY. LTD.                         ...\n",
       "15         CAPTAIN STEVE PELECANOS & ASSOCIATES PTY LTD  ...\n",
       "16         MIENREACH PTY. LTD.                           ...\n",
       "17         MERITDEEN PTY. LTD.                           ...\n",
       "18         ZARMAC RESIDENTIAL SERVICES PTY. LIMITED      ...\n",
       "19         MEDLEYFIELD PTY. LTD.                         ...\n",
       "20         MARVELSTOCK PTY. LTD.                         ...\n",
       "21         MALLONWORTH PTY. LTD.                         ...\n",
       "22         PINELAND ENTERPRISES PTY. LTD.                ...\n",
       "23         DUNKERRY SOUTH PTY LTD                        ...\n",
       "24         TREXVALE PTY. LTD.                            ...\n",
       "25         TREXFIRE PTY. LTD.                            ...\n",
       "26         CLARITY BY ANN WEBBER OPTOMETRISTS PTY LTD    ...\n",
       "27         ANN WEBBER OPTOMETRIST PTY LTD                ...\n",
       "28         LEXAVIEW PTY. LTD.                            ...\n",
       "29         LEXAMONT PTY. LTD.                            ...\n",
       "                                 ...                        \n",
       "3411289    GOLD KING PTY LTD                             ...\n",
       "3411290    FARA MANAGEMENT PTY LTD                       ...\n",
       "3411291    PERFECT BITE RESTAURANT & BAR PTY LTD         ...\n",
       "3411292    WHIT(8) PTY LTD                               ...\n",
       "3411293    CYBERDENT HOLDING PTY LTD                     ...\n",
       "3411294    A.C.N. 638 750 295 PTY LTD                    ...\n",
       "3411295    BB CLINIC PTY LTD                             ...\n",
       "3411296    FUTURE FEED PTY LTD                           ...\n",
       "3411297    271 NOBLE AVE PTY LTD                         ...\n",
       "3411298    NOBLE ST PTY LTD                              ...\n",
       "3411299    O2 ONLINE PTY LTD                             ...\n",
       "3411300    DINGO PARK FEEDLOT PTY LTD                    ...\n",
       "3411301    AGRI NOVATEX AUSTRALIA PTY LTD.               ...\n",
       "3411302    BERKLEY FINANCE GROUP PTY LTD                 ...\n",
       "3411303    INNTO PTY LTD                                 ...\n",
       "3411304    UNIHOME PTY LTD                               ...\n",
       "3411305    BIOMECH (AUS) PTY LTD                         ...\n",
       "3411306    SUNRISE INTERNET PTY LTD                      ...\n",
       "3411307    AUSTRALIAN CENTRE FOR INTERNATIONAL TRADE AND ...\n",
       "3411308    MISSION TO SEAFARERS NORTH WEST AUSTRALIA PTY ...\n",
       "3411309    REDSPEAR LUBRICANTS PTY LTD                   ...\n",
       "3411310    CHARTER INSURANCE PTY LTD                     ...\n",
       "3411311    MR YEROS PTY LTD                              ...\n",
       "3411312    THE DENT BROTHERS HAIL PTY LTD                ...\n",
       "3411313    HANNA BROS HAULAGE PTY LTD                    ...\n",
       "3411314    ATLANTIKK BEVERAGES PTY LTD                   ...\n",
       "3411315    EXODIUM PTY LTD                               ...\n",
       "3411316    VKA DEVELOPMENTS PTY LTD                      ...\n",
       "3411317    DATASITE AUSTRALIA PTY LTD                    ...\n",
       "3411318    COUNTRYWIDE RENEWABLE HYDROGEN PTY LTD        ...\n",
       "Name: Company Name, Length: 3411319, dtype: object"
      ]
     },
     "execution_count": 148,
     "metadata": {},
     "output_type": "execute_result"
    }
   ],
   "source": [
    "ASIC_register['Company Name']"
   ]
  },
  {
   "cell_type": "code",
   "execution_count": 7,
   "metadata": {
    "ExecuteTime": {
     "end_time": "2021-03-06T01:55:28.847129Z",
     "start_time": "2021-03-06T01:55:28.829059Z"
    }
   },
   "outputs": [
    {
     "data": {
      "text/plain": [
       "array(['Sydney Missionary & Bible College', 'Integricare',\n",
       "       'Australian Missionary Tidings', ...,\n",
       "       'Pmwu Of The Presbyterian Womens Assoc NSW',\n",
       "       'Ashfield Chinese Baptist Church',\n",
       "       'Kalgoorlie Baptist Church Incorporated'], dtype=object)"
      ]
     },
     "execution_count": 7,
     "metadata": {},
     "output_type": "execute_result"
    }
   ],
   "source": [
    "ACNC_register['Charity_Legal_Name'].values[10]"
   ]
  },
  {
   "cell_type": "code",
   "execution_count": 65,
   "metadata": {
    "ExecuteTime": {
     "end_time": "2021-03-06T02:25:21.797243Z",
     "start_time": "2021-03-06T02:25:21.780512Z"
    }
   },
   "outputs": [],
   "source": [
    "res = [x for x in table['Approval Holder'].values if re.search('(?i)department', x)]"
   ]
  },
  {
   "cell_type": "code",
   "execution_count": 66,
   "metadata": {
    "ExecuteTime": {
     "end_time": "2021-03-06T02:25:22.633901Z",
     "start_time": "2021-03-06T02:25:22.621132Z"
    }
   },
   "outputs": [
    {
     "data": {
      "text/plain": [
       "['Department of Transport',\n",
       " 'Department of Transport',\n",
       " 'Department of Transport',\n",
       " 'Department of State Growth',\n",
       " 'Department of State Growth',\n",
       " 'Department of Transport',\n",
       " 'Department for Infrastructure and Transport, Government of South Australia',\n",
       " 'Department of Transport and Main Roads',\n",
       " 'Department of Transport and Main Roads',\n",
       " 'Western Australian Department of Education',\n",
       " 'Department of Transport',\n",
       " 'Department of Local Government, Sport and Cultural Industries',\n",
       " 'Department for Infrastructure and Transport, Government of South Australia',\n",
       " 'DEPARTMENT OF JUSTICE AND REGULATION',\n",
       " 'Department of Transport',\n",
       " 'Department of Transport',\n",
       " 'Department of Transport and Main Roads',\n",
       " 'Department of Local Government, Sport and Cultural Industries',\n",
       " 'Department of Transport',\n",
       " 'Department of Transport and Main Roads',\n",
       " 'Queensland Department of Transport and Main Roads',\n",
       " 'Department of State Growth',\n",
       " 'Department of Transport and Main Roads',\n",
       " 'Department of Transport and Main Roads',\n",
       " 'DEPARTMENT OF TRANSPORT',\n",
       " 'Queensland Department of Transport and Main Roads',\n",
       " 'Queensland Department of Transport and Main Roads',\n",
       " 'DEPARTMENT OF TRANSPORT',\n",
       " 'DEPARTMENT OF TRANSPORT',\n",
       " 'Department of Transport and Main Roads',\n",
       " 'DEPARTMENT OF ECONOMIC DEVELOPMENT JOBS TRANSPORT AND RESOURCES',\n",
       " 'Western Australian Department of Education',\n",
       " 'Western Australian Department of Education',\n",
       " 'Department of Innovation and Tourism Industry Development',\n",
       " 'Department of Innovation and Tourism Industry Development',\n",
       " 'Department of Innovation and Tourism Industry Development',\n",
       " 'Department of Innovation and Tourism Industry Development',\n",
       " 'DEPARTMENT OF TRANSPORT',\n",
       " 'Queensland Department of Transport and Main Roads',\n",
       " 'Queensland Department of Transport and Main Roads']"
      ]
     },
     "execution_count": 66,
     "metadata": {},
     "output_type": "execute_result"
    }
   ],
   "source": [
    "res"
   ]
  },
  {
   "cell_type": "code",
   "execution_count": 72,
   "metadata": {
    "ExecuteTime": {
     "end_time": "2021-03-06T02:29:27.695986Z",
     "start_time": "2021-03-06T02:29:27.681274Z"
    }
   },
   "outputs": [
    {
     "data": {
      "text/plain": [
       "0                             AGI Operations Pty Limited\n",
       "1                           NARRE WARREN CENTRAL PTY LTD\n",
       "2                     Co-Operative Bulk Handling Limited\n",
       "3           AUSTRALIA PACIFIC AIRPORTS MELBOURNE PTY LTD\n",
       "4                                  BURNETT WATER PTY LTD\n",
       "5           APA Northern Goldfields Interconnect Pty Ltd\n",
       "6                                    Snowy Hydro Limited\n",
       "7                          AGL SA Generation Pty Limited\n",
       "8                                    LA TROBE UNIVERSITY\n",
       "9                                  Sylvanvale Foundation\n",
       "10       Gladstone Area Water Board and SunWater Limited\n",
       "11     Western Australian Land Authority trading as D...\n",
       "12                              S,C & B Catalano Pty Ltd\n",
       "13                             Eurobodalla Shire Council\n",
       "14                               Department of Transport\n",
       "15                               Department of Transport\n",
       "16                              Pioneer North Queensland\n",
       "17                                    Atlas Iron Pty Ltd\n",
       "18                               White Wind No.1 Pty Ltd\n",
       "19                               White Wind No.1 Pty Ltd\n",
       "20                               Neoen Australia Pty Ltd\n",
       "21                                  ADANI MINING PTY LTD\n",
       "22                               Department of Transport\n",
       "23     LIGHTSOURCE DEVELOPMENT SERVICES AUSTRALIA PTY...\n",
       "24                             Reserve Bank of Australia\n",
       "25                                   Tellus Holdings Ltd\n",
       "26                                    ATLAS IRON LIMITED\n",
       "27                                         MAIN ROADS WA\n",
       "28                                 Australia Pacific LNG\n",
       "29                                 Australia Pacific LNG\n",
       "                             ...                        \n",
       "562                          HAMERSLEY IRON PTY. LIMITED\n",
       "563                                     INPEX BROWSE LTD\n",
       "564    Northern SEQ Distributor-Retailer Authority tr...\n",
       "565                                    Ellenhoog Pty Ltd\n",
       "566                                    Sun Cable Pty Ltd\n",
       "567                                    Sun Cable Pty Ltd\n",
       "568         Frasers Property Retail Holdings Pty Limited\n",
       "569                                RES AUSTRALIA PTY LTD\n",
       "570                              Peak Gold Mines Pty Ltd\n",
       "571                                 Development Victoria\n",
       "572              ACCIONA ENERGY AUSTRALIA GLOBAL PTY LTD\n",
       "573                           CleanCo Queensland Limited\n",
       "574    Meridien Airlie Beach Pty Ltd and Windward AB ...\n",
       "575                                      TM Gold Pty Ltd\n",
       "576                            The Beehive Group Pty Ltd\n",
       "577            AUSTRALIAN RAIL TRACK CORPORATION LIMITED\n",
       "578              ACCIONA ENERGY AUSTRALIA GLOBAL PTY LTD\n",
       "579                             Satterley Property Group\n",
       "580                                 RENEW ESTATE PTY LTD\n",
       "581                              Major Projects Canberra\n",
       "582                           Peet Joint Venture Pty Ltd\n",
       "583                              DEPARTMENT OF TRANSPORT\n",
       "584                            Willow Properties Pty Ltd\n",
       "585                             STANMORE IP COAL PTY LTD\n",
       "586                                     City of Cockburn\n",
       "587                                Manyana Coast Pty Ltd\n",
       "588                                Manyana Coast Pty Ltd\n",
       "589    Queensland Department of Transport and Main Roads\n",
       "590    Queensland Department of Transport and Main Roads\n",
       "591                            De Costi Seafoods Pty Ltd\n",
       "Name: Approval Holder, Length: 592, dtype: object"
      ]
     },
     "execution_count": 72,
     "metadata": {},
     "output_type": "execute_result"
    }
   ],
   "source": [
    "table['Approval Holder']"
   ]
  },
  {
   "cell_type": "code",
   "execution_count": 6,
   "metadata": {
    "ExecuteTime": {
     "end_time": "2021-03-06T01:55:15.244288Z",
     "start_time": "2021-03-06T01:55:15.222184Z"
    }
   },
   "outputs": [],
   "source": [
    "from fuzzywuzzy import fuzz"
   ]
  },
  {
   "cell_type": "code",
   "execution_count": 67,
   "metadata": {
    "ExecuteTime": {
     "end_time": "2021-03-06T02:26:15.128935Z",
     "start_time": "2021-03-06T02:26:15.119045Z"
    }
   },
   "outputs": [],
   "source": [
    "# test_NFP = table['Approval Holder'].iloc[175]\n",
    "test_NFP = 'DEPARTMENT OF JUSTICE AND REGULATION'"
   ]
  },
  {
   "cell_type": "code",
   "execution_count": 78,
   "metadata": {
    "ExecuteTime": {
     "end_time": "2021-03-06T02:42:43.120185Z",
     "start_time": "2021-03-06T02:42:29.494102Z"
    }
   },
   "outputs": [],
   "source": [
    "sector = ['Not yet categorised.']*len(table['Approval Holder'].values)\n",
    "\n",
    "for i in range(len(table['Approval Holder'].values[1:10])):\n",
    "    ratio_list = np.zeros(len(ACNC_register['Charity_Legal_Name'].values))\n",
    "    for j in range(len(ACNC_register['Charity_Legal_Name'].values)):\n",
    "        ratio = fuzz.token_sort_ratio(\n",
    "            table['Approval Holder'].values[i], \n",
    "            ACNC_register['Charity_Legal_Name'].values[j]\n",
    "        )\n",
    "        if ratio > 98:\n",
    "            sector[i] = 'Not for Profit'\n",
    "            break\n",
    "        else: \n",
    "            ratio_list[i] = ratio\n",
    "            \n",
    "    if np.amax(ratio_list) > 95:\n",
    "        sector[i] = 'Not for Profit (Confirm Manually)'"
   ]
  },
  {
   "cell_type": "code",
   "execution_count": 81,
   "metadata": {
    "ExecuteTime": {
     "end_time": "2021-03-06T02:43:44.106333Z",
     "start_time": "2021-03-06T02:43:44.083255Z"
    }
   },
   "outputs": [
    {
     "data": {
      "text/plain": [
       "2    Co-Operative Bulk Handling Limited\n",
       "8                   LA TROBE UNIVERSITY\n",
       "Name: Approval Holder, dtype: object"
      ]
     },
     "execution_count": 81,
     "metadata": {},
     "output_type": "execute_result"
    }
   ],
   "source": [
    "table['Approval Holder'][[2,8]]"
   ]
  },
  {
   "cell_type": "code",
   "execution_count": 71,
   "metadata": {
    "ExecuteTime": {
     "end_time": "2021-03-06T02:26:56.536960Z",
     "start_time": "2021-03-06T02:26:56.510405Z"
    }
   },
   "outputs": [
    {
     "data": {
      "text/plain": [
       "'Evolution and development'"
      ]
     },
     "execution_count": 71,
     "metadata": {},
     "output_type": "execute_result"
    }
   ],
   "source": [
    "# np.argmax(ratio_list)\n",
    "ACNC_register['Charity_Legal_Name'][48893]"
   ]
  },
  {
   "cell_type": "code",
   "execution_count": 31,
   "metadata": {
    "ExecuteTime": {
     "end_time": "2021-03-06T02:12:06.052384Z",
     "start_time": "2021-03-06T02:12:06.043258Z"
    }
   },
   "outputs": [
    {
     "data": {
      "text/plain": [
       "'Australian Nurses Memorial Centre'"
      ]
     },
     "execution_count": 31,
     "metadata": {},
     "output_type": "execute_result"
    }
   ],
   "source": [
    "ACNC_register['Charity_Legal_Name'].values[14]"
   ]
  },
  {
   "cell_type": "code",
   "execution_count": 18,
   "metadata": {
    "ExecuteTime": {
     "end_time": "2021-03-06T02:03:19.629316Z",
     "start_time": "2021-03-06T02:03:19.621638Z"
    }
   },
   "outputs": [
    {
     "data": {
      "text/plain": [
       "'Catholic Parish Of Mary Help Of Christians Sawtell'"
      ]
     },
     "execution_count": 18,
     "metadata": {},
     "output_type": "execute_result"
    }
   ],
   "source": [
    "ACNC_register['Charity_Legal_Name'].values[22884]"
   ]
  },
  {
   "cell_type": "code",
   "execution_count": 11,
   "metadata": {
    "ExecuteTime": {
     "end_time": "2021-03-06T01:59:24.214293Z",
     "start_time": "2021-03-06T01:59:24.201608Z"
    }
   },
   "outputs": [],
   "source": [
    "Ratio = fuzz.ratio(test_NFP_1.lower(),test_NFP_2.lower())\n",
    "Partial_Ratio = fuzz.partial_ratio(test_NFP_1.lower(),test_NFP_2.lower())\n",
    "Token_Ratio = fuzz.token_sort_ratio(test_NFP_1,test_NFP_2)"
   ]
  },
  {
   "cell_type": "code",
   "execution_count": 12,
   "metadata": {
    "ExecuteTime": {
     "end_time": "2021-03-06T01:59:44.428680Z",
     "start_time": "2021-03-06T01:59:44.412764Z"
    }
   },
   "outputs": [
    {
     "name": "stdout",
     "output_type": "stream",
     "text": [
      "44\n",
      "45\n",
      "44\n"
     ]
    }
   ],
   "source": [
    "print(Ratio)\n",
    "print(Partial_Ratio)\n",
    "print(Token_Ratio)"
   ]
  },
  {
   "cell_type": "code",
   "execution_count": null,
   "metadata": {},
   "outputs": [],
   "source": []
  }
 ],
 "metadata": {
  "kernelspec": {
   "display_name": "Python 3",
   "language": "python",
   "name": "python3"
  },
  "language_info": {
   "codemirror_mode": {
    "name": "ipython",
    "version": 3
   },
   "file_extension": ".py",
   "mimetype": "text/x-python",
   "name": "python",
   "nbconvert_exporter": "python",
   "pygments_lexer": "ipython3",
   "version": "3.6.8"
  },
  "toc": {
   "base_numbering": 1,
   "nav_menu": {},
   "number_sections": true,
   "sideBar": true,
   "skip_h1_title": false,
   "title_cell": "Table of Contents",
   "title_sidebar": "Contents",
   "toc_cell": false,
   "toc_position": {},
   "toc_section_display": true,
   "toc_window_display": false
  }
 },
 "nbformat": 4,
 "nbformat_minor": 2
}
