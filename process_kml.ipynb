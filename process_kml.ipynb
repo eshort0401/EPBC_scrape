{
 "cells": [
  {
   "cell_type": "code",
   "execution_count": 1,
   "id": "f54f1ba4",
   "metadata": {
    "ExecuteTime": {
     "end_time": "2021-05-16T23:36:14.272033Z",
     "start_time": "2021-05-16T23:36:14.242735Z"
    }
   },
   "outputs": [],
   "source": [
    "import simplekml\n",
    "import glob\n",
    "import os\n",
    "import pykml\n",
    "from pykml import parser\n",
    "from pykml.factory import KML_ElementMaker as KML\n",
    "from lxml import etree, objectify"
   ]
  },
  {
   "cell_type": "code",
   "execution_count": 2,
   "id": "9ab4f4d0",
   "metadata": {
    "ExecuteTime": {
     "end_time": "2021-05-16T23:36:16.392936Z",
     "start_time": "2021-05-16T23:36:16.386783Z"
    }
   },
   "outputs": [],
   "source": [
    "base_dir = '/home/student.unimelb.edu.au/shorte1/Documents/ACF_consulting'\n",
    "sub_dir = '/map_data/'"
   ]
  },
  {
   "cell_type": "code",
   "execution_count": 3,
   "id": "e5534663",
   "metadata": {
    "ExecuteTime": {
     "end_time": "2021-05-16T23:36:18.426757Z",
     "start_time": "2021-05-16T23:36:18.396542Z"
    }
   },
   "outputs": [
    {
     "data": {
      "text/plain": [
       "['20167684_07042016',\n",
       " '20147119_19042016',\n",
       " '20116228_04042016',\n",
       " '20157598_12042016',\n",
       " '20167676_01042016']"
      ]
     },
     "execution_count": 3,
     "metadata": {},
     "output_type": "execute_result"
    }
   ],
   "source": [
    "folders = glob.glob(base_dir + sub_dir + '/*')\n",
    "id_nums = [folder.split('/')[-1] for folder in folders]\n",
    "id_nums"
   ]
  },
  {
   "cell_type": "code",
   "execution_count": 26,
   "id": "747036bd",
   "metadata": {
    "ExecuteTime": {
     "end_time": "2021-05-16T23:36:44.054020Z",
     "start_time": "2021-05-16T23:36:44.044646Z"
    }
   },
   "outputs": [],
   "source": [
    "fol_num = 5"
   ]
  },
  {
   "cell_type": "code",
   "execution_count": 27,
   "id": "421bcfd9",
   "metadata": {
    "ExecuteTime": {
     "end_time": "2021-05-16T23:36:44.541593Z",
     "start_time": "2021-05-16T23:36:44.523265Z"
    }
   },
   "outputs": [
    {
     "ename": "IndexError",
     "evalue": "list index out of range",
     "output_type": "error",
     "traceback": [
      "\u001b[0;31m---------------------------------------------------------------------------\u001b[0m",
      "\u001b[0;31mIndexError\u001b[0m                                Traceback (most recent call last)",
      "\u001b[0;32m<ipython-input-27-2b12948db815>\u001b[0m in \u001b[0;36m<module>\u001b[0;34m\u001b[0m\n\u001b[0;32m----> 1\u001b[0;31m \u001b[0mpages\u001b[0m \u001b[0;34m=\u001b[0m \u001b[0;34m[\u001b[0m\u001b[0mdir\u001b[0m \u001b[0;32mfor\u001b[0m \u001b[0mdir\u001b[0m \u001b[0;32min\u001b[0m \u001b[0mglob\u001b[0m\u001b[0;34m.\u001b[0m\u001b[0mglob\u001b[0m\u001b[0;34m(\u001b[0m\u001b[0mfolders\u001b[0m\u001b[0;34m[\u001b[0m\u001b[0mfol_num\u001b[0m\u001b[0;34m]\u001b[0m \u001b[0;34m+\u001b[0m \u001b[0;34m'/*'\u001b[0m\u001b[0;34m)\u001b[0m \u001b[0;32mif\u001b[0m \u001b[0mos\u001b[0m\u001b[0;34m.\u001b[0m\u001b[0mpath\u001b[0m\u001b[0;34m.\u001b[0m\u001b[0misdir\u001b[0m\u001b[0;34m(\u001b[0m \u001b[0mdir\u001b[0m\u001b[0;34m)\u001b[0m\u001b[0;34m]\u001b[0m\u001b[0;34m\u001b[0m\u001b[0;34m\u001b[0m\u001b[0m\n\u001b[0m\u001b[1;32m      2\u001b[0m \u001b[0mpages\u001b[0m \u001b[0;34m=\u001b[0m \u001b[0;34m[\u001b[0m\u001b[0mp\u001b[0m\u001b[0;34m.\u001b[0m\u001b[0msplit\u001b[0m\u001b[0;34m(\u001b[0m\u001b[0;34m'/'\u001b[0m\u001b[0;34m)\u001b[0m\u001b[0;34m[\u001b[0m\u001b[0;34m-\u001b[0m\u001b[0;36m1\u001b[0m\u001b[0;34m]\u001b[0m \u001b[0;32mfor\u001b[0m \u001b[0mp\u001b[0m \u001b[0;32min\u001b[0m \u001b[0mpages\u001b[0m\u001b[0;34m]\u001b[0m\u001b[0;34m\u001b[0m\u001b[0;34m\u001b[0m\u001b[0m\n\u001b[1;32m      3\u001b[0m \u001b[0mpages\u001b[0m\u001b[0;34m.\u001b[0m\u001b[0mremove\u001b[0m\u001b[0;34m(\u001b[0m\u001b[0;34m'pages'\u001b[0m\u001b[0;34m)\u001b[0m\u001b[0;34m\u001b[0m\u001b[0;34m\u001b[0m\u001b[0m\n\u001b[1;32m      4\u001b[0m \u001b[0mpages\u001b[0m\u001b[0;34m.\u001b[0m\u001b[0mremove\u001b[0m\u001b[0;34m(\u001b[0m\u001b[0;34m'JSON'\u001b[0m\u001b[0;34m)\u001b[0m\u001b[0;34m\u001b[0m\u001b[0;34m\u001b[0m\u001b[0m\n\u001b[1;32m      5\u001b[0m \u001b[0mpages\u001b[0m \u001b[0;34m=\u001b[0m \u001b[0;34m[\u001b[0m\u001b[0mint\u001b[0m\u001b[0;34m(\u001b[0m\u001b[0mp\u001b[0m\u001b[0;34m)\u001b[0m \u001b[0;32mfor\u001b[0m \u001b[0mp\u001b[0m \u001b[0;32min\u001b[0m \u001b[0mpages\u001b[0m\u001b[0;34m]\u001b[0m\u001b[0;34m\u001b[0m\u001b[0;34m\u001b[0m\u001b[0m\n",
      "\u001b[0;31mIndexError\u001b[0m: list index out of range"
     ]
    }
   ],
   "source": [
    "pages = [dir for dir in glob.glob(folders[fol_num] + '/*') if os.path.isdir( dir)]\n",
    "pages = [p.split('/')[-1] for p in pages]\n",
    "pages.remove('pages')\n",
    "pages.remove('JSON')\n",
    "pages = [int(p) for p in pages]"
   ]
  },
  {
   "cell_type": "code",
   "execution_count": 28,
   "id": "c45fefd1",
   "metadata": {
    "ExecuteTime": {
     "end_time": "2021-05-16T23:36:44.812535Z",
     "start_time": "2021-05-16T23:36:44.792634Z"
    }
   },
   "outputs": [
    {
     "ename": "IndexError",
     "evalue": "list index out of range",
     "output_type": "error",
     "traceback": [
      "\u001b[0;31m---------------------------------------------------------------------------\u001b[0m",
      "\u001b[0;31mIndexError\u001b[0m                                Traceback (most recent call last)",
      "\u001b[0;32m<ipython-input-28-4dc3a9bed33d>\u001b[0m in \u001b[0;36m<module>\u001b[0;34m\u001b[0m\n\u001b[1;32m      4\u001b[0m         \u001b[0mKML\u001b[0m\u001b[0;34m.\u001b[0m\u001b[0mname\u001b[0m\u001b[0;34m(\u001b[0m\u001b[0;34m'Page '\u001b[0m \u001b[0;34m+\u001b[0m \u001b[0mstr\u001b[0m\u001b[0;34m(\u001b[0m\u001b[0mpage\u001b[0m\u001b[0;34m+\u001b[0m\u001b[0;36m1\u001b[0m\u001b[0;34m)\u001b[0m\u001b[0;34m)\u001b[0m\u001b[0;34m,\u001b[0m\u001b[0;34m\u001b[0m\u001b[0;34m\u001b[0m\u001b[0m\n\u001b[1;32m      5\u001b[0m     )\n\u001b[0;32m----> 6\u001b[0;31m     \u001b[0mkml_files\u001b[0m \u001b[0;34m=\u001b[0m \u001b[0mglob\u001b[0m\u001b[0;34m.\u001b[0m\u001b[0mglob\u001b[0m\u001b[0;34m(\u001b[0m\u001b[0mfolders\u001b[0m\u001b[0;34m[\u001b[0m\u001b[0mfol_num\u001b[0m\u001b[0;34m]\u001b[0m \u001b[0;34m+\u001b[0m \u001b[0;34m'/'\u001b[0m \u001b[0;34m+\u001b[0m \u001b[0mstr\u001b[0m\u001b[0;34m(\u001b[0m\u001b[0mpage\u001b[0m\u001b[0;34m)\u001b[0m \u001b[0;34m+\u001b[0m \u001b[0;34m'/*.kml'\u001b[0m\u001b[0;34m)\u001b[0m\u001b[0;34m\u001b[0m\u001b[0;34m\u001b[0m\u001b[0m\n\u001b[0m\u001b[1;32m      7\u001b[0m     \u001b[0;32mfor\u001b[0m \u001b[0mkml_file\u001b[0m \u001b[0;32min\u001b[0m \u001b[0mkml_files\u001b[0m\u001b[0;34m:\u001b[0m\u001b[0;34m\u001b[0m\u001b[0;34m\u001b[0m\u001b[0m\n\u001b[1;32m      8\u001b[0m         \u001b[0;32mwith\u001b[0m \u001b[0mopen\u001b[0m\u001b[0;34m(\u001b[0m\u001b[0mkml_file\u001b[0m\u001b[0;34m)\u001b[0m \u001b[0;32mas\u001b[0m \u001b[0mf\u001b[0m\u001b[0;34m:\u001b[0m\u001b[0;34m\u001b[0m\u001b[0;34m\u001b[0m\u001b[0m\n",
      "\u001b[0;31mIndexError\u001b[0m: list index out of range"
     ]
    }
   ],
   "source": [
    "page_folders = []\n",
    "for page in sorted(pages):\n",
    "    page_folder = KML.Folder(\n",
    "        KML.name('Page ' + str(page+1)),\n",
    "    )\n",
    "    kml_files = glob.glob(folders[fol_num] + '/' + str(page) + '/*.kml')\n",
    "    for kml_file in kml_files:\n",
    "        with open(kml_file) as f:\n",
    "            kml = parser.parse(f)\n",
    "        contents = [\n",
    "            c for c in list(kml.getroot().Document.iterchildren()) \n",
    "            if 'folder' in c.tag.lower()\n",
    "        ]\n",
    "        [page_folder.append(c) for c in contents]\n",
    "    page_folders.append(page_folder)"
   ]
  },
  {
   "cell_type": "code",
   "execution_count": 24,
   "id": "20a2fa1c",
   "metadata": {
    "ExecuteTime": {
     "end_time": "2021-05-16T23:36:41.817760Z",
     "start_time": "2021-05-16T23:36:41.808952Z"
    }
   },
   "outputs": [],
   "source": [
    "doc = KML.Document(\n",
    "    KML.name(id_nums[fol_num].replace('_','.')),\n",
    ")\n",
    "[doc.append(pf) for pf in page_folders]\n",
    "\n",
    "big_kml = KML.kml(\n",
    "    doc,\n",
    ")"
   ]
  },
  {
   "cell_type": "code",
   "execution_count": 25,
   "id": "83321fdc",
   "metadata": {
    "ExecuteTime": {
     "end_time": "2021-05-16T23:36:42.211014Z",
     "start_time": "2021-05-16T23:36:42.191986Z"
    }
   },
   "outputs": [],
   "source": [
    "with open(base_dir + sub_dir + '/' + id_nums[fol_num] + '/' + id_nums[fol_num] + '.kml', 'w') as f:\n",
    "    f.write(etree.tostring(big_kml, pretty_print=1, encoding='unicode'))"
   ]
  },
  {
   "cell_type": "code",
   "execution_count": null,
   "id": "cd5fb391",
   "metadata": {},
   "outputs": [],
   "source": []
  }
 ],
 "metadata": {
  "kernelspec": {
   "display_name": "Python 3",
   "language": "python",
   "name": "python3"
  },
  "language_info": {
   "codemirror_mode": {
    "name": "ipython",
    "version": 3
   },
   "file_extension": ".py",
   "mimetype": "text/x-python",
   "name": "python",
   "nbconvert_exporter": "python",
   "pygments_lexer": "ipython3",
   "version": "3.9.2"
  },
  "toc": {
   "base_numbering": 1,
   "nav_menu": {},
   "number_sections": true,
   "sideBar": true,
   "skip_h1_title": false,
   "title_cell": "Table of Contents",
   "title_sidebar": "Contents",
   "toc_cell": false,
   "toc_position": {},
   "toc_section_display": true,
   "toc_window_display": false
  }
 },
 "nbformat": 4,
 "nbformat_minor": 5
}
